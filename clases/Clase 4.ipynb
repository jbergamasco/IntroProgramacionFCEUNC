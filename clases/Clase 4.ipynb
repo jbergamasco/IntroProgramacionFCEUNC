{
 "cells": [
  {
   "cell_type": "markdown",
   "metadata": {
    "id": "7cUqukj4_P_A"
   },
   "source": [
    "### NOTA: Para un mejor seguimiento de esta clase (sin instalar nada), es recomendable abrirla desde Colab, siguiendo el botón de abajo\n",
    "\n",
    "<a href=\"https://colab.research.google.com/github/lbiedma/IntroProgramacionFCEUNC/blob/main/clases/Clase%204.ipynb\" target=\"_parent\"><img src=\"https://colab.research.google.com/assets/colab-badge.svg\" alt=\"Open In Colab\"/></a>\n"
   ]
  },
  {
   "cell_type": "markdown",
   "metadata": {
    "id": "mgqhxY2yCx6i"
   },
   "source": [
    "# Clase 4\n",
    "\n",
    "---\n",
    "\n",
    "> Librerías: Qué son y cómo se usan. Ejemplos.\n",
    "\n",
    "> Cálculos matriciales y entre arrays con Numpy.\n",
    "\n",
    "> Carga de datos en Python: manipulación de archivos de texto.\n",
    "\n",
    "> Importación y exportación de datos utilizando Pandas.\n"
   ]
  },
  {
   "cell_type": "markdown",
   "metadata": {
    "id": "Z9i5-cpq2Cxg"
   },
   "source": [
    "# Librerías"
   ]
  },
  {
   "cell_type": "markdown",
   "metadata": {
    "id": "GstwH_NNGHGv"
   },
   "source": [
    "Hasta ahora, hemos usado solamente funciones y estructuras disponibles en la instalación base de Python, pero una de las fortalezas del lenguaje es su comunidad y todo lo que ha creado para facilitar un montón de trabajo a lo largo del tiempo, gracias a las librerías creadas (y en proceso de creación).\n",
    "\n",
    "Una *librería* o *paquete* es código organizado en un conjunto de funciones implementadas por otras personas que nos facilitan realizar tareas, principalmente porque no debemos volver a programar este código. \n",
    "\n",
    "<img src=\"http://www.goalexandria.com/wp-content/uploads/2016/02/alt-lib.png\" width=200px>\n",
    "\n",
    "## ¿Cómo Usamos una Librería?\n",
    "\n",
    "Para utilizar cualquier librería primero debemos *importarla*. Para ello, se usa la *palabra clave* **`import`**, pero hay muchas formas de emplearla. Sabiendo esto, una posibilidad es utilizar la siguiente sintaxis:\n",
    "\n",
    "> **`import`** (nombre de la libreria) **`as`** (nombre abreviado)\n",
    "\n",
    "De esta forma, estamos habilitando el uso de todo lo que contiene el paquete importado. El comando **`as`** nos permite indicar el nombre que le damos a la librería dentro de nuestro código.\n"
   ]
  },
  {
   "cell_type": "code",
   "execution_count": null,
   "metadata": {
    "colab": {
     "base_uri": "https://localhost:8080/"
    },
    "executionInfo": {
     "elapsed": 1424,
     "status": "ok",
     "timestamp": 1621025637707,
     "user": {
      "displayName": "sofia lujan",
      "photoUrl": "https://lh3.googleusercontent.com/a-/AOh14GhRjGY1pGqEbZ6NzzBty0QMgutVKtWpvUr5f7ch8Q=s64",
      "userId": "04644358706352499859"
     },
     "user_tz": 180
    },
    "id": "wTRD4TD0zd4e",
    "outputId": "41ca9738-5d2d-4289-c1d0-7bd54574d14b"
   },
   "outputs": [
    {
     "name": "stdout",
     "output_type": "stream",
     "text": [
      "El seno de 0 es  0.0 y el coseno 1.0\n",
      "El seno de 0 es  0.0 y el coseno 1.0\n"
     ]
    }
   ],
   "source": [
    "import math\n",
    "import math as m\n",
    "print('El seno de 0 es ', math.sin(0), 'y el coseno', math.cos(0))\n",
    "print('El seno de 0 es ', m.sin(0), 'y el coseno', m.cos(0))"
   ]
  },
  {
   "cell_type": "code",
   "execution_count": null,
   "metadata": {
    "colab": {
     "base_uri": "https://localhost:8080/"
    },
    "executionInfo": {
     "elapsed": 2160,
     "status": "ok",
     "timestamp": 1621025540533,
     "user": {
      "displayName": "sofia lujan",
      "photoUrl": "https://lh3.googleusercontent.com/a-/AOh14GhRjGY1pGqEbZ6NzzBty0QMgutVKtWpvUr5f7ch8Q=s64",
      "userId": "04644358706352499859"
     },
     "user_tz": 180
    },
    "id": "eh2F_LRSppp-",
    "outputId": "7a1e08f8-ac88-41be-a7a4-6c8c4f74f1ca"
   },
   "outputs": [
    {
     "data": {
      "text/plain": [
       "['__doc__',\n",
       " '__loader__',\n",
       " '__name__',\n",
       " '__package__',\n",
       " '__spec__',\n",
       " 'acos',\n",
       " 'acosh',\n",
       " 'asin',\n",
       " 'asinh',\n",
       " 'atan',\n",
       " 'atan2',\n",
       " 'atanh',\n",
       " 'ceil',\n",
       " 'copysign',\n",
       " 'cos',\n",
       " 'cosh',\n",
       " 'degrees',\n",
       " 'e',\n",
       " 'erf',\n",
       " 'erfc',\n",
       " 'exp',\n",
       " 'expm1',\n",
       " 'fabs',\n",
       " 'factorial',\n",
       " 'floor',\n",
       " 'fmod',\n",
       " 'frexp',\n",
       " 'fsum',\n",
       " 'gamma',\n",
       " 'gcd',\n",
       " 'hypot',\n",
       " 'inf',\n",
       " 'isclose',\n",
       " 'isfinite',\n",
       " 'isinf',\n",
       " 'isnan',\n",
       " 'ldexp',\n",
       " 'lgamma',\n",
       " 'log',\n",
       " 'log10',\n",
       " 'log1p',\n",
       " 'log2',\n",
       " 'modf',\n",
       " 'nan',\n",
       " 'pi',\n",
       " 'pow',\n",
       " 'radians',\n",
       " 'remainder',\n",
       " 'sin',\n",
       " 'sinh',\n",
       " 'sqrt',\n",
       " 'tan',\n",
       " 'tanh',\n",
       " 'tau',\n",
       " 'trunc']"
      ]
     },
     "execution_count": 7,
     "metadata": {
      "tags": []
     },
     "output_type": "execute_result"
    }
   ],
   "source": [
    "# Podemos ver todo lo que tiene disponible la librería con la función dir\n",
    "dir(m)"
   ]
  },
  {
   "cell_type": "code",
   "execution_count": null,
   "metadata": {
    "colab": {
     "base_uri": "https://localhost:8080/"
    },
    "executionInfo": {
     "elapsed": 3784,
     "status": "ok",
     "timestamp": 1621025522521,
     "user": {
      "displayName": "sofia lujan",
      "photoUrl": "https://lh3.googleusercontent.com/a-/AOh14GhRjGY1pGqEbZ6NzzBty0QMgutVKtWpvUr5f7ch8Q=s64",
      "userId": "04644358706352499859"
     },
     "user_tz": 180
    },
    "id": "smZQD0SQoxL6",
    "outputId": "f1ca2b81-07ab-4fe7-d3bf-ad0243087f98"
   },
   "outputs": [
    {
     "name": "stdout",
     "output_type": "stream",
     "text": [
      "Help on built-in function sin in module math:\n",
      "\n",
      "sin(x, /)\n",
      "    Return the sine of x (measured in radians).\n",
      "\n"
     ]
    }
   ],
   "source": [
    "# Podemos pedir las líneas de documentación de la función que deseemos\n",
    "help(m.sin)"
   ]
  },
  {
   "cell_type": "markdown",
   "metadata": {
    "id": "gHbeMYxXzeHe"
   },
   "source": [
    "Por otro lado, las librerías muchas veces están separadas en distintos **módulos**. Podemos pensar entonces que una librería es como un estante de libros, donde en cada libro se encuentran las funciones de un tema en común. Incluso un \"libro\" podría estar subdividido en \"capítulos\". Es decir, los distintos módulos de una librería podrían llegar a estar subdivididos en submódulos, y cada submódulo podría estar nuevamente subdividido, etc.\n",
    "\n",
    "En el caso de que no querramos importar la librería completa, podemos importar sólo un módulo, de esta forma:\n",
    "\n",
    "> **`from`** (nombre de la libreria) **`import`** (nombre de un módulo) **`as`** (nombre abreviado)\n",
    "\n",
    "Análogamente a la importación anterior, se puede usar un punto para acceder a un módulo, como se muestra a continuación:\n",
    "\n",
    "> **`import`** (nombre de la libreria)**.**(nombre de un módulo) **`as`** (nombre abreviado)\n",
    "\n",
    "Una vez importada una librería, podremos utilizar las funciones definidas en ella. Para poder hacer uso y ejecutar una función que se encuentra en una librería, necesitamos especificarlo usando un punto entre el nombre de la librería (o su nombre abreviado) y la función. La sintaxis es la siguiente:\n",
    "\n",
    "> (nombre de la libreria)**.**función*(argumentos)*\n",
    "\n",
    "En el caso de importar una librería que se encuentre dividida en módulos, debemos especificar el módulo correspondiente a la función nuevamente con un punto:\n",
    "\n",
    "> (nombre de la libreria)**.**(nombre del módulo)**.**función*(argumentos)*\n"
   ]
  },
  {
   "cell_type": "code",
   "execution_count": null,
   "metadata": {
    "id": "NPtBY8VO24B4"
   },
   "outputs": [],
   "source": [
    "from math import sin, cos #Importamos directamente las funciones que usaremos (separadas por comas)\n",
    "\n",
    "print('El seno de 0 es ', sin(0), 'y el coseno', cos(0))\n",
    "\n",
    "from math import *"
   ]
  },
  {
   "cell_type": "code",
   "execution_count": null,
   "metadata": {
    "colab": {
     "base_uri": "https://localhost:8080/"
    },
    "executionInfo": {
     "elapsed": 1973,
     "status": "ok",
     "timestamp": 1621025957112,
     "user": {
      "displayName": "sofia lujan",
      "photoUrl": "https://lh3.googleusercontent.com/a-/AOh14GhRjGY1pGqEbZ6NzzBty0QMgutVKtWpvUr5f7ch8Q=s64",
      "userId": "04644358706352499859"
     },
     "user_tz": 180
    },
    "id": "pvT2S9nJ26rY",
    "outputId": "2e5d807c-43fd-4ce6-9715-af5c0ff2651a"
   },
   "outputs": [
    {
     "name": "stdout",
     "output_type": "stream",
     "text": [
      "Carpeta/Archivo.rar\n"
     ]
    }
   ],
   "source": [
    "#En este caso usamos el módulo 'path' de la librería 'os' y lo apodamos 'pth'\n",
    "from os import path as pth\n",
    "\n",
    "print(pth.join('Carpeta', 'Archivo.rar'))"
   ]
  },
  {
   "cell_type": "code",
   "execution_count": null,
   "metadata": {
    "colab": {
     "base_uri": "https://localhost:8080/"
    },
    "executionInfo": {
     "elapsed": 1227,
     "status": "ok",
     "timestamp": 1621026332775,
     "user": {
      "displayName": "sofia lujan",
      "photoUrl": "https://lh3.googleusercontent.com/a-/AOh14GhRjGY1pGqEbZ6NzzBty0QMgutVKtWpvUr5f7ch8Q=s64",
      "userId": "04644358706352499859"
     },
     "user_tz": 180
    },
    "id": "wNSog0fjr-dX",
    "outputId": "e5253822-d3c3-4b32-fd0e-8001c30c3440"
   },
   "outputs": [
    {
     "name": "stdout",
     "output_type": "stream",
     "text": [
      "Carpeta/Archivo.rar\n"
     ]
    }
   ],
   "source": [
    "from os.path import join as jn\n",
    "print(jn('Carpeta', 'Archivo.rar'))"
   ]
  },
  {
   "cell_type": "markdown",
   "metadata": {},
   "source": [
    "Además, si creamos un archivo `mimodulo.py` y trabajamos en el mismo directorio en el que se encuentra, podemos importarlo como una librería y usarlo.\n",
    "\n",
    "En el ejemplo de las 4 celdas siguientes, suponemos que en ese archivo definimos una función llamada `imprimir_mi_modulo` que solamente imprime en pantalla \"Hola estoy en mi modulo\""
   ]
  },
  {
   "cell_type": "code",
   "execution_count": null,
   "metadata": {
    "id": "fFKIGF0OrbbK"
   },
   "outputs": [],
   "source": [
    "import mimodulo"
   ]
  },
  {
   "cell_type": "code",
   "execution_count": null,
   "metadata": {
    "colab": {
     "base_uri": "https://localhost:8080/"
    },
    "executionInfo": {
     "elapsed": 4155,
     "status": "ok",
     "timestamp": 1621026159619,
     "user": {
      "displayName": "sofia lujan",
      "photoUrl": "https://lh3.googleusercontent.com/a-/AOh14GhRjGY1pGqEbZ6NzzBty0QMgutVKtWpvUr5f7ch8Q=s64",
      "userId": "04644358706352499859"
     },
     "user_tz": 180
    },
    "id": "QP3q4Ircr_ay",
    "outputId": "10e027e9-924c-4054-9160-06e9c127d084"
   },
   "outputs": [
    {
     "name": "stdout",
     "output_type": "stream",
     "text": [
      "Hola estoy en mi modulo\n"
     ]
    }
   ],
   "source": [
    "mimodulo.imprimir_mi_modulo()"
   ]
  },
  {
   "cell_type": "code",
   "execution_count": null,
   "metadata": {
    "id": "Szp3YLsesJ3O"
   },
   "outputs": [],
   "source": [
    "from mimodulo import imprimir_mi_modulo as im"
   ]
  },
  {
   "cell_type": "code",
   "execution_count": null,
   "metadata": {
    "colab": {
     "base_uri": "https://localhost:8080/"
    },
    "executionInfo": {
     "elapsed": 3123,
     "status": "ok",
     "timestamp": 1621026211664,
     "user": {
      "displayName": "sofia lujan",
      "photoUrl": "https://lh3.googleusercontent.com/a-/AOh14GhRjGY1pGqEbZ6NzzBty0QMgutVKtWpvUr5f7ch8Q=s64",
      "userId": "04644358706352499859"
     },
     "user_tz": 180
    },
    "id": "Y9lRUX-MsOmx",
    "outputId": "fddc306d-e754-4384-f3e5-e6147ab31582"
   },
   "outputs": [
    {
     "name": "stdout",
     "output_type": "stream",
     "text": [
      "Hola estoy en mi modulo\n"
     ]
    }
   ],
   "source": [
    "im()"
   ]
  },
  {
   "cell_type": "markdown",
   "metadata": {
    "id": "yCmbBG-9z4ma"
   },
   "source": [
    "### **Aclaraciones:**\n",
    "- **No es obligatorio especificar un nombre abreviado con `as`**, puede utilizarse una librería con su nombre original, omitiendo este comando. Sin embargo, utilizar abreviaturas puede simplificar la legibilidad del código en algunos casos.\n",
    "- Así como pueden importarse módulos de una librería, **también pueden importarse funciones sueltas**, según lo que necesiten. **Pero cuidado!** Los nombres de funciones deben ser únicos. Si importan una función directamente, entonces no podrán definir su propia función con el mismo nombre.\n",
    "- Es una **buena práctica** que todas las librerías se importen al principio del programa, o sea que las instrucciones de **`import`** se encuentren arriba de todo. Y es aún mejor práctica que los imports estén hechos en orden alfabético (aunque al principio sea mucho pedir)."
   ]
  },
  {
   "cell_type": "markdown",
   "metadata": {
    "id": "HzKJXAYX7VEL"
   },
   "source": [
    "A continuación veremos diversos ejemplos de librerías, no para que las aprendan de memoria, sino para que conozcan el potencial de estas herramientas y puedan aprender a utilizar otras librerías nuevas en el futuro, que se adapten a sus necesidades y problemáticas particulares.\n",
    "\n",
    "![Import all the things!](https://memegenerator.net/img/instances/60968180/python-programming-import-all-the-things.jpg)"
   ]
  },
  {
   "cell_type": "markdown",
   "metadata": {
    "id": "ye6V-CbH4Cu5"
   },
   "source": [
    "Algunas librerías muy conocidas y utilizadas, especialmente en ciencia de datos, son:\n",
    "\n",
    "*   [numpy](https://numpy.org/) (Cálculo matricial)\n",
    "*   [pandas](https://pandas.pydata.org/) (Lectura y manipulación de datos)\n",
    "*   [maplotlib](https://matplotlib.org/) (Gráficos)\n",
    "*   [seaborn](https://seaborn.pydata.org/) (Gráficos)\n",
    "*   [scipy](https://www.scipy.org/) (Ciencia de datos)\n",
    "*   [scikit-learn](https://scikit-learn.org) (Machine Learning)\n",
    "\n",
    "En clases siguientes indagaremos más acerca de estas librerías, utilizando **Pandas** para analizar archivos de información estructurada y **Matplotlib** o **Seaborn** para realizar gráficos y visualizaciones de esta información. Por el momento, vamos a inspeccionar otros paquetes \"menos complejos\", pero que también son de gran utilidad."
   ]
  },
  {
   "cell_type": "markdown",
   "metadata": {
    "id": "nxG7Oo-qGhXr"
   },
   "source": [
    "## Ejemplos de Librerías\n",
    "\n",
    "A continuación se presentan un conjunto de ejemplos con diversas librerías. Cada una de ellas ofrece muchas más opciones y capacidades, pero la idea es que les ayude a tener un panorama del tipo de herramientas que existen, y que se animen a buscar nuevas librerías que solucionen sus problemas específicos.\n",
    "\n",
    "Cabe destacar que algunas de estas librerías ya vienen incluídas con la instalación de Python, mientras que otras deben ser instaladas de forma independiente. En [este link](https://docs.python.org/3/library/) pueden investigar acerca de todas las librerías estándar que trae Python. Si cierta librería no se encuentra instalada en el sistema entonces el comando **`import`** para esa librería no funcionará con su instalación base de Python. \n",
    "\n",
    "La próxima clase ahondaremos más en la gestión y creación de entornos, donde aprenderán cómo instalar librerías nuevas no incluidas en la instalación de base, tanto en el entorno de Colab como en un entorno local.\n",
    "\n",
    "**Notas:**\n",
    "\n",
    "- Todas las librerías o paquetes cuentan con su **documentación**, la cual nos permite explorar los módulos que contiene y las funciones disponibles dentro de cada uno de ellos.\n",
    "- **Recurrir a la documentación** es muy útil e importante a la hora de entender cómo usar las herramientas disponibles en una librería."
   ]
  },
  {
   "cell_type": "markdown",
   "metadata": {
    "id": "xatrNCLt0P-o"
   },
   "source": [
    "### [math](https://docs.python.org/3/library/math.html#module-math)\n",
    "\n",
    "- *Compilado de funciones matemáticas básicas*"
   ]
  },
  {
   "cell_type": "code",
   "execution_count": null,
   "metadata": {
    "id": "oI8cVCIDHS75"
   },
   "outputs": [],
   "source": [
    "import math\n",
    "\n",
    "x = 10.14\n",
    "print('Ceil de x', math.ceil(x))\n",
    "print('Floor de x', math.floor(x))\n",
    "print('Trunc de x', math.trunc(x))"
   ]
  },
  {
   "cell_type": "code",
   "execution_count": null,
   "metadata": {
    "id": "rwgHXexOJl-E"
   },
   "outputs": [],
   "source": [
    "x = -10.14\n",
    "print('Ceil de x', math.ceil(x))\n",
    "print('Floor de x', math.floor(x))\n",
    "print('Trunc de x', math.trunc(x))"
   ]
  },
  {
   "cell_type": "code",
   "execution_count": null,
   "metadata": {
    "id": "VT4HW_KsKU7Y"
   },
   "outputs": [],
   "source": [
    "print(math.factorial(4))"
   ]
  },
  {
   "cell_type": "markdown",
   "metadata": {
    "id": "2vUBryEyLeYj"
   },
   "source": [
    "### [copy](https://docs.python.org/3/library/copy.html)\n",
    "\n",
    "* *Copiado de estructuras de datos*"
   ]
  },
  {
   "cell_type": "code",
   "execution_count": null,
   "metadata": {
    "id": "G7nwn3RoLpsi"
   },
   "outputs": [],
   "source": [
    "# Por defecto Python NO copia estructuras de datos para ahorrar memoria:\n",
    "\n",
    "A = [1, 2, 3]\n",
    "B = A\n",
    "B += [4, 5, 6]\n",
    "\n",
    "# No modificamos directamente A, sin embargo su valor cambió\n",
    "# En este caso, 'B' es un nombre alternativo de 'A', no es una copia\n",
    "print(A)\n",
    "print(B)"
   ]
  },
  {
   "cell_type": "code",
   "execution_count": null,
   "metadata": {
    "id": "M5elhdB9MHRo"
   },
   "outputs": [],
   "source": [
    "# Con .copy() realizamos una copia real\n",
    "\n",
    "A = [1, 2, 3]\n",
    "B = A.copy()\n",
    "B += [4, 5, 6]\n",
    "\n",
    "print(A)\n",
    "print(B)"
   ]
  },
  {
   "cell_type": "code",
   "execution_count": null,
   "metadata": {
    "id": "KqkfQVUpMYHH"
   },
   "outputs": [],
   "source": [
    "# Usando sólo .copy() no alcanza para que se copien las estructuras internas\n",
    "# Esto se llama una copia 'superficial'\n",
    "# solamente la capa 'externa' es la que se copia\n",
    "\n",
    "A = [[1,2,3], [4,5,6], [7,8,9]]\n",
    "B = A.copy()\n",
    "B[0][0] = 999\n",
    "B += [10, 11, 12]\n",
    "\n",
    "print(A)\n",
    "print(B)"
   ]
  },
  {
   "cell_type": "code",
   "execution_count": null,
   "metadata": {
    "id": "8nYqyG2LM8PL"
   },
   "outputs": [],
   "source": [
    "# Con la librería copy y su función deepcopy() realizamos una copia real\n",
    "# 'profunda' tal como queremos\n",
    "\n",
    "import copy\n",
    "\n",
    "A = [[1,2,3], [4,5,6], [7,8,9]]\n",
    "B = copy.deepcopy(A)\n",
    "B[0][0] = 999\n",
    "B += [10, 11, 12]\n",
    "\n",
    "# La lista A se mantiene intacta\n",
    "print(A)\n",
    "print(B)"
   ]
  },
  {
   "cell_type": "markdown",
   "metadata": {
    "id": "7ALMENyDOUuN"
   },
   "source": [
    "### [random](https://docs.python.org/3/library/random.html)\n",
    "\n",
    "* *Generación aleatoria de números*"
   ]
  },
  {
   "cell_type": "code",
   "execution_count": null,
   "metadata": {
    "id": "h3NXC4unOcBu"
   },
   "outputs": [],
   "source": [
    "import random\n",
    "\n",
    "opciones = ['Manzanas', 'Bananas', 'Naranjas']\n",
    "print(random.choice(opciones))"
   ]
  },
  {
   "cell_type": "code",
   "execution_count": null,
   "metadata": {
    "id": "7983CXceKsCB"
   },
   "outputs": [],
   "source": [
    "# La función shuffle reordena una lista y modifica el elemento que recibe como argumento!\n",
    "random.shuffle(opciones)\n",
    "print(opciones)"
   ]
  },
  {
   "cell_type": "code",
   "execution_count": null,
   "metadata": {
    "id": "aOaQPLkSLwyV"
   },
   "outputs": [],
   "source": [
    "# Con sample podemos tomar muestras aleatorias de objetos de nuestra lista\n",
    "print(random.sample(opciones, k=2))"
   ]
  },
  {
   "cell_type": "code",
   "execution_count": null,
   "metadata": {
    "id": "g5vUqXLuMBlS"
   },
   "outputs": [],
   "source": [
    "print(random.sample(['red', 'red', 'red', 'red', 'blue', 'blue'], k=5))"
   ]
  },
  {
   "cell_type": "code",
   "execution_count": null,
   "metadata": {
    "id": "D2f3ZBgmLYGm"
   },
   "outputs": [],
   "source": [
    "# Entero aleatorio entre dos números (inclusive ambos)\n",
    "print(random.randint( 10, 20 ))\n",
    "\n",
    "# Decimal aleatorio entre [0.0, 1.0)\n",
    "print(random.random())\n",
    "\n",
    "# random.gauss(mu, sigma)\n",
    "print(random.gauss(0, 1))"
   ]
  },
  {
   "cell_type": "markdown",
   "metadata": {
    "id": "9TaGnqTJKhTJ"
   },
   "source": [
    "### [time](https://docs.python.org/3/library/time.html)\n",
    "\n",
    "* *Funciones relacionadas al manejo del tiempo*"
   ]
  },
  {
   "cell_type": "code",
   "execution_count": null,
   "metadata": {
    "id": "BGEu_UzwKv2M"
   },
   "outputs": [],
   "source": [
    "import time\n",
    "# sleep le ordena a la computadora \"dormir\" por la cantidad de segundos que coloquemos como input.\n",
    "print(1)\n",
    "time.sleep(1)\n",
    "print(2)\n",
    "time.sleep(1)\n",
    "print(3)\n",
    "time.sleep(1)\n",
    "print(4)\n",
    "time.sleep(1)\n",
    "print(5)\n",
    "time.sleep(1)\n",
    "print('Adiós!')"
   ]
  },
  {
   "cell_type": "code",
   "execution_count": null,
   "metadata": {
    "id": "CkL7WlHQxINh"
   },
   "outputs": [],
   "source": [
    "# time.time() pregunta la hora y podemos utilizarla\n",
    "# para saber cuánto tardamos en ejecutar una función o pedazo de código\n",
    "start = time.time()\n",
    "print(\"Hola\")\n",
    "end = time.time()\n",
    "\n",
    "print(\"Imprimir esto nos tomó\", end - start, \"segundos\")"
   ]
  },
  {
   "cell_type": "code",
   "execution_count": null,
   "metadata": {
    "id": "B4qrlIrswi91"
   },
   "outputs": [],
   "source": [
    "%%time\n",
    "# Podemos imprimir el tiempo que toma correr una celda con %%time (sólo en notebooks)\n",
    "print(\"Hola\")"
   ]
  },
  {
   "cell_type": "markdown",
   "metadata": {
    "id": "sqEI3Do1Ip-D"
   },
   "source": [
    "### [datetime](https://docs.python.org/3/library/datetime.html)\n",
    "\n",
    "* *Manipulación de fechas y horarios*"
   ]
  },
  {
   "cell_type": "code",
   "execution_count": null,
   "metadata": {
    "id": "MaD4L7cANU5E"
   },
   "outputs": [],
   "source": [
    "from datetime import datetime, timedelta\n",
    "\n",
    "now = datetime.now()\n",
    "print(now)\n",
    "print(now.time())"
   ]
  },
  {
   "cell_type": "code",
   "execution_count": null,
   "metadata": {
    "id": "piv0wNnmNXFK"
   },
   "outputs": [],
   "source": [
    "print((now.year, now.month))"
   ]
  },
  {
   "cell_type": "code",
   "execution_count": null,
   "metadata": {
    "id": "Z4WGHq6iNyrz"
   },
   "outputs": [],
   "source": [
    "# Algo de f-strings\n",
    "print(f\"Hoy es {now:%B %d, %Y}\")"
   ]
  },
  {
   "cell_type": "code",
   "execution_count": null,
   "metadata": {
    "id": "3Tc-QRTdIfzt"
   },
   "outputs": [],
   "source": [
    "# Podemos crear un objeto datetime con la información de una fecha y hora\n",
    "new_time = datetime(2010, 2, 6, 10, 8, 20, 0)\n",
    "                #(año, mes, dia, [hora, minuto, segundo, milisegundo])\n",
    "print(new_time)\n",
    "new_time = new_time + timedelta(days=31, hours=1)\n",
    "print(new_time)\n",
    "\n",
    "fin_de_año = datetime.strptime(\"31/12/2021\", \"%d/%m/%Y\")\n",
    "\n",
    "print(fin_de_año.strftime(\"%Y-%m-%d %H:%M\"))\n",
    "\n",
    "# Tener cuidado con Timezones! (https://docs.python.org/es/3/library/datetime.html#aware-and-naive-objects)"
   ]
  },
  {
   "cell_type": "markdown",
   "metadata": {
    "id": "_vOsYmofHtiY"
   },
   "source": [
    "### [NumPy](https://numpy.org/)\n",
    "* *Álgebra Lineal y un poco de Cálculo*\n",
    "\n",
    "NumPy permite crear vectores y matrices multidimensionales, junto con una gran colección de funciones matemáticas de alto nivel para operar con ellos de forma muy eficiente."
   ]
  },
  {
   "cell_type": "code",
   "execution_count": null,
   "metadata": {
    "id": "qYNa9QwtGm2d"
   },
   "outputs": [],
   "source": [
    "import numpy as np\n",
    "# La estructura básica de Numpy (matriz, vector o tensor) es el array.\n",
    "A = np.array([\n",
    "    [1,2,3],\n",
    "    [4,5,6],\n",
    "])\n",
    "B = np.array([[1,2], [4,5], [7,8]])\n",
    "C = np.dot(A, B)\n",
    "\n",
    "print('A =')\n",
    "print(A)\n",
    "print()\n",
    "print('B =')\n",
    "print(B)\n",
    "print()\n",
    "print('A*B =')\n",
    "print(C)"
   ]
  },
  {
   "cell_type": "code",
   "execution_count": null,
   "metadata": {
    "id": "NTRjCd5g3Sm3"
   },
   "outputs": [],
   "source": [
    "# Veamos la diferencia entre listas o arrays\n",
    "# Suma o producto de listas concatena\n",
    "a = [2, 4]\n",
    "print(a + a)\n",
    "print(a * 3)\n",
    "\n",
    "# Suma o producto de numpy arrays aplica la operación elemento a elemento\n",
    "a = np.array(a)\n",
    "print(a + a)\n",
    "print(a * 3)\n",
    "\n",
    "# Mostrar error de diferencias de dimensiones"
   ]
  },
  {
   "cell_type": "markdown",
   "metadata": {
    "id": "oAahKWT9fnbl"
   },
   "source": [
    "### [Matplotlib](https://matplotlib.org)\n",
    "* *Visualización de datos*"
   ]
  },
  {
   "cell_type": "code",
   "execution_count": null,
   "metadata": {
    "id": "Sw-DP4kEgKMi"
   },
   "outputs": [],
   "source": [
    "# Ejemplo obtenido de la documentación de matplotlib para darse una idea del\n",
    "# uso de esta herramienta\n",
    "# No es necesario entender cómo funciona\n",
    "import numpy as np\n",
    "import matplotlib.pyplot as plt\n",
    "\n",
    "# example data\n",
    "mu = 100  # mean of distribution\n",
    "sigma = 15  # standard deviation of distribution\n",
    "x = mu + sigma * np.random.randn(437)\n",
    "\n",
    "num_bins = 50\n",
    "\n",
    "plt.plot(figsize=(14, 7))\n",
    "\n",
    "# the histogram of the data\n",
    "n, bins, patches = plt.hist(x, num_bins, density=True)\n",
    "\n",
    "# add a 'best fit' line\n",
    "y = ((1 / (np.sqrt(2 * np.pi) * sigma)) *\n",
    "     np.exp(-0.5 * (1 / sigma * (bins - mu))**2))\n",
    "plt.plot(bins, y, 'r--')\n",
    "plt.title(r'Histogram of IQ: $\\mu=100$, $\\sigma=15$')\n",
    "\n",
    "# Tweak spacing to prevent clipping of ylabel\n",
    "plt.show()"
   ]
  },
  {
   "cell_type": "markdown",
   "metadata": {
    "id": "wO_4LxNnqm_1"
   },
   "source": [
    "# Paréntesis: *f-strings*\n",
    "\n",
    "Como habrán notado, existen formas de \"*incrustar*\" variables en texto de una manera muy amigable gracias a las *formatted strings literals* (más conocidas por su nombre artístico *f-strings*).\n",
    "\n",
    "Esto nos salva de concatenar strings y hace mucho más legible el texto que querramos crear. Por ejemplo, nos hacen muy sencillo presentar un número como un porcentaje.\n",
    "\n"
   ]
  },
  {
   "cell_type": "code",
   "execution_count": null,
   "metadata": {
    "id": "afDPYJqqsN4O"
   },
   "outputs": [],
   "source": [
    "x = 0.253246\n",
    "\n",
    "print(f\"El porcentaje a dos decimales es {x:.2%}\")\n",
    "print(f\"En porcentaje a tres decimales es {x:.3%}\")"
   ]
  },
  {
   "cell_type": "code",
   "execution_count": null,
   "metadata": {
    "id": "FtSR0YBTTXo3"
   },
   "outputs": [],
   "source": [
    "cantante = \"La Mona Jimenez\"\n",
    "numero = 1000000\n",
    "fecha = datetime(2021, 4, 30)\n",
    "\n",
    "print(f\"{cantante} sorteó ${numero} en su último recital del día {fecha}.\")\n",
    "\n",
    "diccionario = {\n",
    "    \"cantante\": \"La Mona Jimenez\",\n",
    "    \"numero\": 100000,\n",
    "}\n",
    "\n",
    "print(f\"{diccionario['cantante']} sorteó ${diccionario['numero']} en su último recital.\")"
   ]
  },
  {
   "cell_type": "markdown",
   "metadata": {
    "id": "DGSNK6SlsMtv"
   },
   "source": [
    "En [esta documentación](https://docs.python.org/3/library/string.html#formatstrings) encontrarán más información al respecto. Además, dentro del tutorial de Python, pueden revisar [esta sección](https://docs.python.org/3/tutorial/inputoutput.html)."
   ]
  },
  {
   "cell_type": "markdown",
   "metadata": {
    "id": "ISbfwNZkHkVX"
   },
   "source": [
    "# Cálculos Matriciales y Entre *Arrays* con Numpy\n",
    "\n",
    "En la siguiente sección, profundizaremos sobre la utilización de la librería Numpy, que se usa principalmente para operar con matrices o *arrays*. Además, se resolverán ejercicios analizados durante la unidad previa de este módulo, en los que se aplicó álgebra lineal.\n",
    "\n",
    "El elemento básico sobre el que se opera en Numpy se lo denomina *array*. Un ***array*** en Numpy es lo que conocemos como vector o matriz y sus valores son listas con una restricción especial: que sus valores sean todos del mismo tipo.\n",
    "\n",
    "Podemos resolver algunos ejercicios de álgebra lineal con esta librería."
   ]
  },
  {
   "cell_type": "code",
   "execution_count": null,
   "metadata": {
    "id": "R4dlbxi8sM5j"
   },
   "outputs": [],
   "source": [
    "import numpy as np\n",
    "\n",
    "# Tenemos 3 matrices y varias operaciones para realizar entre ellas.\n",
    "\n",
    "A = np.array([\n",
    "    [3, 0.],\n",
    "    [-1, 2],\n",
    "    [1, 1],\n",
    "])\n",
    "\n",
    "B = np.array([\n",
    "    [4, -1.],\n",
    "    [0, 2],\n",
    "])\n",
    "\n",
    "C = np.array([\n",
    "    [1., 1, -1],\n",
    "    [2, -1, 1],\n",
    "])\n",
    "\n",
    "# La multiplicación matricial requiere que usemos @ en vez de *\n",
    "print(f\"A * B = {A @ B}\")\n",
    "print(f\"B * C = {B @ C}\")\n",
    "print(f\"A * A^T = {A @ A.T}\")\n",
    "print(f\"A^T * A = {A.T @ A}\")\n",
    "print(f\"A + C^T = {A + C.T}\")\n",
    "print(f\"2A = {2 * A}\")"
   ]
  },
  {
   "cell_type": "code",
   "execution_count": null,
   "metadata": {
    "id": "jRQM-v3tsk9M"
   },
   "outputs": [],
   "source": [
    "# Sistemas lineales\n",
    "# x + y = 2\n",
    "# 5x + 6y = 9\n",
    "\n",
    "sistema = np.array([\n",
    "    [1., 1],\n",
    "    [5, 6],\n",
    "])\n",
    "vector = np.array([2, 9])\n",
    "print(np.linalg.solve(sistema, vector))\n",
    "\n",
    "# x + 3y + z = 0\n",
    "# 2x + 2y + z = -1\n",
    "# 2x + 3y + z = 2\n",
    "\n",
    "sistema = np.array([\n",
    "    [1., 3, 1],\n",
    "    [2, 2, 1],\n",
    "    [2, 3, 1],\n",
    "])\n",
    "vector = np.array([0, -1, 2])\n",
    "print(np.linalg.solve(sistema, vector))\n"
   ]
  },
  {
   "cell_type": "code",
   "execution_count": null,
   "metadata": {
    "id": "kCvIGo-SspJA"
   },
   "outputs": [],
   "source": [
    "# Determinar si dos vectores son ortogonales\n",
    "v = np.array([6., 2])\n",
    "w = np.array([-3, 1])\n",
    "print(np.dot(v, w) == 0.0)\n",
    "\n",
    "v = np.array([-1., 3, 2])\n",
    "w = np.array([4, 2, -1])\n",
    "print(np.dot(v, w) == 0.0)"
   ]
  },
  {
   "cell_type": "code",
   "execution_count": null,
   "metadata": {
    "id": "aM7rEsHUsqQ3"
   },
   "outputs": [],
   "source": [
    "# Determinante\n",
    "A = np.eye(4)\n",
    "print(A)\n",
    "print(np.linalg.det(A))\n",
    "\n",
    "B = 4 * A\n",
    "print(np.linalg.det(B))"
   ]
  },
  {
   "cell_type": "code",
   "execution_count": null,
   "metadata": {
    "id": "8crVF_Opzp2S"
   },
   "outputs": [],
   "source": [
    "# Autovalores y autovectores\n",
    "\n",
    "A = np.random.randn((3, 3))\n",
    "\n",
    "autovalores, autovectores = np.linalg.eig(A)\n",
    "print(autovalores)\n",
    "print(autovectores)"
   ]
  },
  {
   "cell_type": "markdown",
   "metadata": {
    "id": "RhnuEXhvHgK2"
   },
   "source": [
    "# Manipulación de Archivos de Texto (Datos No Estructurados)\n",
    "\n",
    "<img src=\"https://icons-for-free.com/iconfiles/png/512/document+file+page+paper+programming+icon-1320165844326114116.png\" height=150>\n",
    "\n",
    "Muchas veces es necesario realizar un programa que pueda procesar información que se encuentra en un formato particular, almacenados sin ninguna estructura en particular. A este tipo de datos los llamamos ***datos no estructurados***.\n",
    "\n",
    "El análisis de un texto es un ejemplo de un archivo para el cual necesitamos realizar una lectura en modo \"manual\". A manera introductoria, comenzaremos a aprender a manipular archivos de texto (*.txt*), dado que son simples y muy usados."
   ]
  },
  {
   "cell_type": "markdown",
   "metadata": {
    "id": "mj0twLv6Grdv"
   },
   "source": [
    "## Lectura\n",
    "\n",
    "Imaginemos que se necesita leer un archivo ***.txt*** con una noticia del diario y analizar su contenido. \n",
    "\n",
    "<img src=\"http://www.harfordcountyhealth.com/wp-content/uploads/2015/01/Newspaper.jpg\" width=300>\n",
    "\n",
    "A continuación, mostraremos un ejemplo donde se accede a la información de un archivo llamado \"**Noticia Inflación EEUU.txt**\". Normalmente, desde nuestra computadora podremos acceder a los archivos locales conociendo su ubicación en el disco (es decir que, en tanto se conozca la carpeta donde se ubique el archivo, éste se podrá abrir), pero Colab requiere cargar los archivos al entorno online antes de poder usarlos. Esto se puede realizar mediante el siguiente comando, que descarga un archivo de internet y lo carga al entorno de Colab:"
   ]
  },
  {
   "cell_type": "code",
   "execution_count": null,
   "metadata": {
    "id": "pJqU8NbcdnFh"
   },
   "outputs": [],
   "source": [
    "# Comando wget. Solo para maquinas Linux. Colab usa linux!\n",
    "! wget --no-check-certificate 'https://docs.google.com/uc?export=download&id=1YDkt6Ckvk-r-aoHcfvDQyJnXlgobPLCr' -O 'Noticia Inflación EEUU.txt'"
   ]
  },
  {
   "cell_type": "markdown",
   "metadata": {
    "id": "NM3Fc5ImWOWz"
   },
   "source": [
    "En este caso, abriremos el archivo con el comando **`open()`** de Python y guardaremos el contenido \"*crudo*\" en una lista de strings, separando por renglones. Si el archivo se encuentra en la misma carpeta que el programa en Python alcanza con indicar el nombre del archivo. En caso contrario, es necesario indicar la ubicación del mismo entre los paréntesis de **`open()`**.\n",
    "\n",
    "Por otro lado, para obtener una lista de renglones en el archivo utilizamos un *método* llamado **`readlines()`**."
   ]
  },
  {
   "cell_type": "code",
   "execution_count": null,
   "metadata": {
    "id": "CmYQnfoCIqKF"
   },
   "outputs": [],
   "source": [
    "file = open(\"Noticia Inflación EEUU.txt\") # Guardamos el contenido del archivo en una variable\n",
    "\n",
    "contenido = file.readlines() # Obtenemos una lista de renglones\n",
    "print(contenido)"
   ]
  },
  {
   "cell_type": "code",
   "execution_count": null,
   "metadata": {
    "id": "SZJ9SYxBWQCb"
   },
   "outputs": [],
   "source": [
    "for i, line in enumerate(contenido):\n",
    "    if i<10:\n",
    "        print(f\"Fila {i}: {line}\") # Mostramos renglón a renglón las primeras 10 líneas"
   ]
  },
  {
   "cell_type": "markdown",
   "metadata": {
    "id": "ZKs68NfOX2JM"
   },
   "source": [
    "Luego de almacenar el contenido, podemos separarlo por palabras utilizando el método **`.split()`**"
   ]
  },
  {
   "cell_type": "code",
   "execution_count": null,
   "metadata": {
    "id": "LCNVL9hVWb0i"
   },
   "outputs": [],
   "source": [
    "palabras = []\n",
    "\n",
    "for line in contenido:\n",
    "    palabras_linea = line.split(' ') # Separamos por espacios\n",
    "    for palabra in palabras_linea:   # por cada \"string\" separado por espacios\n",
    "        palabras.append(palabra)\n",
    "\n",
    "print(palabras)"
   ]
  },
  {
   "cell_type": "markdown",
   "metadata": {
    "id": "idd9lVBFYInK"
   },
   "source": [
    "Si prestamos atencion, vamos a notar que aparecen algunos ***carácteres no deseados*** entre las palabras (como `\\n` ó `:`). Cuando realizamos la lectura manual de un archivo de manera \"personalizada\", es común que ocurran esta clase de \"problemas\", los cuales debemos resolver con algunos ajustes a nuestro programa.\n",
    "\n",
    "En este caso los carácteres no deseados que podemos observar a simple vista son: `\\n` `:` `,` y `.`. Los caracteres que tienen la barra invertida *`\\`* son llamados '*secuencias de escape*' o '*escape characters*' y se utilizan para definir ciertos ***caracteres especiales*** dentro de strings. Por ejemplo **`\\n`** es el caracter que corresponde a una nueva línea, o lo que es lo mismo: lo que se almacena en memoria cuando se presiona la tecla **`Enter`**.\n",
    "\n",
    "Para filtrar estos caracteres especiales, usaremos de método de strings [**`replace()`**](https://www.geeksforgeeks.org/python-string-replace/) - ([*documentación de Python*](https://docs.python.org/3/library/stdtypes.html#str.replace)):\n",
    "\n"
   ]
  },
  {
   "cell_type": "code",
   "execution_count": null,
   "metadata": {
    "id": "Q_mvfMWgYK3z"
   },
   "outputs": [],
   "source": [
    "palabras = []\n",
    "\n",
    "for line in contenido: # por cada línea en el contenido\n",
    "    \n",
    "    # eliminamos los distintos carácteres no deseados uno por uno, reemplazando\n",
    "    # por un caracter vacío ''.\n",
    "    line = line.replace('\\n','')\n",
    "    line = line.replace(':','')\n",
    "    line = line.replace(',','')\n",
    "    line = line.replace('.','')\n",
    "    \n",
    "    palabras_linea = line.split(' ') # separamos por espacios \n",
    "    \n",
    "    for palabra in palabras_linea: # por cada \"string\" separado por espacios\n",
    "        if palabra != '':\n",
    "            palabras.append(palabra) # solamente agregamos la palabra a la lista\n",
    "                                     # si esta palabra no es vacía.\n",
    "\n",
    "print(palabras)"
   ]
  },
  {
   "cell_type": "markdown",
   "metadata": {
    "id": "RIyBwATppoN3"
   },
   "source": [
    "Como podrán observar, entre las líneas 7 y 10 repetimos el mismo código. Podríamos simplificar esto utilizando una lista de caracteres indeseados y recorrer esa lista para ir remplazándolos.\n",
    "\n",
    "Además, una idea muy útil es pasar todo el texto a minúsculas para poder analizarlo de una manera más simple y homogénea. Por ejemplo, si quiero buscar una palabra, no voy a tener que considerar la posibilidad de que la primera letra sea mayúscula y el resto no.\n",
    "\n",
    "Veamos cómo hacemos que nuestro programa sea más sofisticado:"
   ]
  },
  {
   "cell_type": "code",
   "execution_count": null,
   "metadata": {
    "id": "dIXbRM7Epnrs"
   },
   "outputs": [],
   "source": [
    "palabras = []\n",
    "no_deseados = ['\\n', ':', ',', '.']\n",
    "\n",
    "for line in contenido: # por cada línea en el contenido\n",
    "    \n",
    "    # eliminamos los distintos carácteres no deseados recorriendo la lista\n",
    "    # definida previamente, reemplazandolos por un caracter vacío ''.\n",
    "    for caracter in no_deseados:\n",
    "        line = line.replace(caracter,'')\n",
    "    \n",
    "    palabras_linea = line.split(' ') # separamos por espacios \n",
    "    \n",
    "    for palabra in palabras_linea: # por cada \"string\" separado por espacios\n",
    "        if palabra != '':\n",
    "            palabras.append(palabra.lower()) # convertimos todo a mayuscula\n",
    "\n",
    "print(palabras)"
   ]
  },
  {
   "cell_type": "markdown",
   "metadata": {
    "id": "BsOiRz0V5RrZ"
   },
   "source": [
    "## **Ejercicio 1:** Archivos de Texto\n",
    "\n",
    "1. ¿Qué cantidad de palabras tiene el artículo?\n",
    "2. Encontrar la cantidad de ocurrencias de las palabras \"**inflación**\" e \"**índice**\" en el texto de la noticia.\n",
    "3. ¿Cuántas veces se menciona \"**precio**\" o \"**precios**\"?\n",
    "4. ¿Cuántas veces se repite la palabra más frecuente? ¿Cuál es esa palabra?"
   ]
  },
  {
   "cell_type": "code",
   "execution_count": null,
   "metadata": {
    "id": "5PtKWm7R24VS"
   },
   "outputs": [],
   "source": [
    "# Ayudita\n",
    "\n",
    "frecuencia = {}\n",
    "\n",
    "for palabra in palabras:\n",
    "    frecuencia[palabra] = frecuencia.get(palabra, 0) + 1"
   ]
  },
  {
   "cell_type": "code",
   "execution_count": null,
   "metadata": {
    "id": "RXoQbvRFH5ug"
   },
   "outputs": [],
   "source": []
  },
  {
   "cell_type": "markdown",
   "metadata": {
    "id": "FKY4waIfk4wx"
   },
   "source": [
    "# Importación y Exportación de Datos Utilizando Pandas (Datos Estructurados)\n",
    "\n",
    "Lo cierto es que, en la mayoría de los casos de uso que verán, lo más común será encontrarse con archivos con formato ***.csv*** o ***.xlsx***, que contienen datos con cierta estructura.\n",
    "\n",
    "Para importar datos de este tipo, existe una librería que nos facilitará mucho la tarea, ya que está pensada y diseñada para el manejo de datos. [**Pandas**](https://pandas.pydata.org/docs/reference/index.html#api) es un paquete de manipulación de datos de alto nivel y que está construída sobre **Numpy** (podemos pensarla como una capa superior).\n",
    "\n",
    "En esta sección aprenderemos cómo importar datos a nuestro programa y también cómo podemos guardarlos nuevamente."
   ]
  },
  {
   "cell_type": "markdown",
   "metadata": {
    "id": "NfZfghr7fVUO"
   },
   "source": [
    "## Importación de Datos\n",
    "\n",
    "La función de Pandas que nos permite leer un csv es **`read_csv()`**, donde como argumento recibe la ubicación del archivo que queremos leer. Veamos un ejemplo, en el que guardamos los datos leidos en una variable `df`, utilizando los datos de muestra que tenemos en Colab:"
   ]
  },
  {
   "cell_type": "code",
   "execution_count": null,
   "metadata": {
    "id": "uBJs66F84ysS"
   },
   "outputs": [],
   "source": [
    "import pandas as pd\n",
    "\n",
    "df = pd.read_csv('/content/sample_data/california_housing_test.csv')"
   ]
  },
  {
   "cell_type": "markdown",
   "metadata": {
    "id": "5vllAvQ-cMrM"
   },
   "source": [
    "¡Parece que algo ejecutó! Veamos qué se almacenó en la variable **`df`**, explorando primero su tipo y luego el contenido."
   ]
  },
  {
   "cell_type": "code",
   "execution_count": null,
   "metadata": {
    "id": "RAHjE2QucvGF"
   },
   "outputs": [],
   "source": [
    "print('Tipo de df:', type(df), '\\n')\n",
    "print('Contenido de df:\\n', df)"
   ]
  },
  {
   "cell_type": "markdown",
   "metadata": {
    "id": "9DdUuCkEdVeE"
   },
   "source": [
    "¡Logramos importar nuestro primer archivo csv! Exploremos un poco algunas propiedades como:\n",
    "- Cantidad de filas y columnas: para ello consultaremos el *atributo* **`shape`**.\n",
    "- Contenido de las primeras 10 filas: para ello utilizaremos el método **`head()`**."
   ]
  },
  {
   "cell_type": "code",
   "execution_count": null,
   "metadata": {
    "id": "_869UNiSeN5h"
   },
   "outputs": [],
   "source": [
    "print('Cantidad de (filas, columnas) de df:', df.shape, '\\n')\n",
    "print('Contenido de las primeras 10 filas de df:\\n', df.head(10))"
   ]
  },
  {
   "cell_type": "markdown",
   "metadata": {
    "id": "LCioTzaFeOl2"
   },
   "source": [
    "Probemos ahora qué ocurre cuando a la última sentencia de una celda ejecutable no le aplicamos la función print."
   ]
  },
  {
   "cell_type": "code",
   "execution_count": null,
   "metadata": {
    "id": "Q6itQozdedjv"
   },
   "outputs": [],
   "source": [
    "df.head(10)"
   ]
  },
  {
   "cell_type": "markdown",
   "metadata": {
    "id": "SPU0dLgGeqbX"
   },
   "source": [
    "Mucho más amigable, verdad?"
   ]
  },
  {
   "cell_type": "markdown",
   "metadata": {
    "id": "xVKEj0W4fbdJ"
   },
   "source": [
    "## Exportación de Datos\n",
    "\n",
    "Supongamos ahora que necesitamos guardar en un nuevo archivo csv las 100 primeras líneas del archivo original. **Pandas** también tiene prevista esta tarea. Para esto, usaremos el método de Pandas **`to_csv()`**, que se aplica sobre un ***DataFrame*** y recibe como argumento el *path* donde se guardarán los datos.\n",
    "\n",
    "Veamos cómo aplicarlo:"
   ]
  },
  {
   "cell_type": "code",
   "execution_count": null,
   "metadata": {
    "id": "WXkP7kpNhDAc"
   },
   "outputs": [],
   "source": [
    "datos_para_guardar = df.head(100)\n",
    "print(type(datos_para_guardar))\n",
    "\n",
    "datos_para_guardar.to_csv('/content/muestra_housing_prices.csv')\n",
    "print(\"Ya terminé de guardar!\")"
   ]
  },
  {
   "cell_type": "markdown",
   "metadata": {
    "id": "kuGXjB0L-z9p"
   },
   "source": [
    "# Ejercicio Integrador"
   ]
  },
  {
   "cell_type": "markdown",
   "metadata": {
    "id": "zl_xTr9t_9Z6"
   },
   "source": [
    "## 1- Análisis Estadístico de Fallas en Lotes de Producción\n",
    "\n",
    "Una planta de producción de botellas plásticas fabrica 1000 lotes de botellas por día. Debido al proceso de fabricación algunas de las botellas salen falladas, estos fallos son detectados automáticamente durante el proceso de control de calidad y se cargan en una base de datos que registra la cantidad de productos fallados que fueron detectados por cada lote. El departamento de control de calidad sospecha que la cantidad de fallos por lote sigue una distribución de *Poisson*, pero todavía no conocen la media y la varianza.\n",
    "\n",
    "Se pide importar los datos de los últimos 30 días (en total son 30000 datos) y calcular la *media*, la *varianza*, la *moda* y la *mediana* de la distribución de datos medidos (sin utilizar librerías de estadística). Los datos se encuentran en el archivo *datos/ControlCalidadBotellas.csv* bajo la columna *Fallas*.\n",
    "\n",
    "**Definiciones:**\n",
    "- **Media:** El valor promedio:\n",
    "\n",
    "  $\\mu=\\frac{X_1+X_2+X_3+\\cdots+X_n}{n}$\n",
    "\n",
    "- **Varianza:** El promedio de las distancias al cuadrado entre cada valor y la media:\n",
    "\n",
    "  $\\sigma^2=\\frac{(X_1-\\mu)^2+(X_2-\\mu)^2+\\cdots+(X_n-\\mu)^2}{n}$\n",
    "\n",
    "- **Moda:** El valor que ocurre con mayor frecuencia.\n",
    "\n",
    "- **Mediana:** El valor que cumple la propiedad que la mitad de las veces el valor medido es menor a la mediana y la otra mitad de las veces es mayor.\n",
    "\n",
    "Si las sospechas acerca de la distribución fueran correctas, entonces de acuerdo a las propiedades de la distribución de Poisson la media y la varianza deberían ser iguales, además la moda sería $\\lceil{\\mu}\\rceil-1$\n",
    "¿Esta sospecha les parece acertada?\n"
   ]
  },
  {
   "cell_type": "code",
   "execution_count": null,
   "metadata": {
    "id": "yRs4g22X__5p"
   },
   "outputs": [],
   "source": []
  }
 ],
 "metadata": {
  "colab": {
   "collapsed_sections": [],
   "name": "M0.U2 Introducción a la Programación - Clase 4.ipynb",
   "provenance": [],
   "toc_visible": true
  },
  "kernelspec": {
   "display_name": "Python 3",
   "language": "python",
   "name": "python3"
  },
  "language_info": {
   "codemirror_mode": {
    "name": "ipython",
    "version": 3
   },
   "file_extension": ".py",
   "mimetype": "text/x-python",
   "name": "python",
   "nbconvert_exporter": "python",
   "pygments_lexer": "ipython3",
   "version": "3.6.8"
  }
 },
 "nbformat": 4,
 "nbformat_minor": 4
}