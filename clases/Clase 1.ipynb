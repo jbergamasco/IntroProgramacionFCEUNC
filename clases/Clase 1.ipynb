{
 "cells": [
  {
   "cell_type": "markdown",
   "metadata": {
    "id": "mgqhxY2yCx6i"
   },
   "source": [
    "### NOTA: Para un mejor seguimiento de esta clase (sin instalar nada), es recomendable abrirla desde Colab, siguiendo el botón de abajo\n",
    "\n",
    "<a href=\"https://colab.research.google.com/github/lbiedma/IntroProgramacionFCEUNC/blob/main/clases/Clase%201.ipynb\" target=\"_parent\"><img src=\"https://colab.research.google.com/assets/colab-badge.svg\" alt=\"Open In Colab\"/></a>\n",
    "\n",
    "## Clase 1\n",
    "\n",
    "---\n",
    "\n",
    "> Elementos de programación y programación en Python.\n",
    "\n",
    "> Herramienta principal: Collaboratory.\n",
    "\n",
    "> Variables.\n",
    "\n",
    "> Operadores lógicos y matemáticos.\n",
    "\n",
    "\n",
    "\n"
   ]
  },
  {
   "cell_type": "markdown",
   "metadata": {
    "id": "qliXmtgXzm5h"
   },
   "source": [
    "Este curso tiene como **objetivo principal** aprender conceptos básicos de programación, de forma que les permita cargar datos desde diversos tipos de fuentes, manipular y transformar conjuntos de datos y representar información gráficamente de manera sencilla. Está orientado a aquellas personas que no tienen experiencia programando en Python.\n",
    "\n",
    "La dinámica del curso incluirá ejercicios de práctica durante el cursado y desafíos a completar a través de notebooks."
   ]
  },
  {
   "cell_type": "markdown",
   "metadata": {
    "id": "O63cYKbC1ABf"
   },
   "source": [
    "# ¿Qué es la Programación?"
   ]
  },
  {
   "cell_type": "markdown",
   "metadata": {
    "id": "FKxyOvV40jf8"
   },
   "source": [
    "La **programación** es el proceso de diseñar e implementar un programa de computadora, utilizando algún lenguaje que permita comunicar una serie de instrucciones o acciones que se pretende que la computadora realice. Podemos pensar que es como una línea de producción que recibe un input/entrada (información), realiza algún procesamiento o acción (programa), y devuelve un output/salida (información procesada).\n",
    "\n",
    "![picture](https://drive.google.com/uc?export=view&id=158ZiRvizOwkhaXpcNQyzDAJbcoa-mf1N)\n",
    "\n",
    "## Lenguajes de Programación\n",
    "Un lenguaje de programación es un [lenguaje formal](https://es.wikipedia.org/wiki/Lenguaje_formal) que le permite a una persona escribir secuencias de órdenes o instrucciones para controlar el comportamiento físico y lógico de una computadora, con el objetivo de que produzca/ejecute ciertas acciones deseadas.\n"
   ]
  },
  {
   "cell_type": "markdown",
   "metadata": {
    "id": "ZqGv35XH1Y1G"
   },
   "source": [
    "### ¿Por qué Python?\n",
    "Python es uno de los lenguajes de programación con **reglas más simples e intuitivas** que existen; esto explica la creciente popularidad que ha tenido en los ultimos tiempos.\n",
    "\n",
    "Es un lenguaje utilizado con **múltiples propósitos**, entre ellos la manipulación y procesamiento de datos, y es uno de los más populares en el campo de la ciencia de datos (junto con R).\n",
    "\n",
    "Una ventaja muy importante es que la **comunidad** de Python es una de las más grandes. Por lo tanto, ante cualquier duda que les surja, pueden buscarla (googlearla) y seguramente encontrarán a alguien que ya haya tenido ese mismo problema. Una de los sitios web más conocidos para este fin es [StackOverflow](https://stackoverflow.com/)"
   ]
  },
  {
   "cell_type": "markdown",
   "metadata": {
    "id": "yp0Fc7PIqiaQ"
   },
   "source": [
    "Su [popularidad](https://learnpython.com/blog/why-is-python-so-popular/) es un dato no menor, además de una de sus grandes ventajas. El siguiente gráfico ilustra cuán usado es respecto a otros lenguajes, así como también el crecimiento de su uso en el tiempo.\n",
    "\n",
    "![picture](https://drive.google.com/uc?export=view&id=1wIcGOrj-k0w5GXJt867Ngnpv-Itm5_Ct)\n",
    "\n",
    "Y [acá](https://github.com/readme/nasa-ingenuity-helicopter), un ejemplo de lo versátil y potente que es este lenguaje.\n"
   ]
  },
  {
   "cell_type": "code",
   "execution_count": null,
   "metadata": {
    "colab": {
     "base_uri": "https://localhost:8080/"
    },
    "executionInfo": {
     "elapsed": 2066,
     "status": "ok",
     "timestamp": 1619095157089,
     "user": {
      "displayName": "sofia lujan",
      "photoUrl": "https://lh3.googleusercontent.com/a-/AOh14GhRjGY1pGqEbZ6NzzBty0QMgutVKtWpvUr5f7ch8Q=s64",
      "userId": "04644358706352499859"
     },
     "user_tz": 180
    },
    "id": "zMiw2R0ely-F",
    "outputId": "cbba553b-52a7-481f-dc58-05bb8e010fac"
   },
   "outputs": [
    {
     "name": "stdout",
     "output_type": "stream",
     "text": [
      "The Zen of Python, by Tim Peters\n",
      "\n",
      "Beautiful is better than ugly.\n",
      "Explicit is better than implicit.\n",
      "Simple is better than complex.\n",
      "Complex is better than complicated.\n",
      "Flat is better than nested.\n",
      "Sparse is better than dense.\n",
      "Readability counts.\n",
      "Special cases aren't special enough to break the rules.\n",
      "Although practicality beats purity.\n",
      "Errors should never pass silently.\n",
      "Unless explicitly silenced.\n",
      "In the face of ambiguity, refuse the temptation to guess.\n",
      "There should be one-- and preferably only one --obvious way to do it.\n",
      "Although that way may not be obvious at first unless you're Dutch.\n",
      "Now is better than never.\n",
      "Although never is often better than *right* now.\n",
      "If the implementation is hard to explain, it's a bad idea.\n",
      "If the implementation is easy to explain, it may be a good idea.\n",
      "Namespaces are one honking great idea -- let's do more of those!\n"
     ]
    }
   ],
   "source": [
    "import this"
   ]
  },
  {
   "cell_type": "markdown",
   "metadata": {
    "id": "pVhZ01aRl97g"
   },
   "source": [
    "En 2020 hicieron una canción: [Link a YouTube](https://www.youtube.com/watch?v=i6G6dmVJy74&ab_channel=TheZbwedicon)"
   ]
  },
  {
   "cell_type": "markdown",
   "metadata": {
    "id": "Kpu7XfPtYfOR"
   },
   "source": [
    "# ¿Qué es un Notebook?"
   ]
  },
  {
   "cell_type": "markdown",
   "metadata": {
    "id": "4Hu--qH4Yptn"
   },
   "source": [
    "Un notebook es un tipo de documento (archivo) que nos permite alternar bloques de texto con bloques de código ejecutable. A cada bloque dentro del notebook lo denominamos **celda**.\n",
    "\n",
    "Una celda puede ser del **tipo texto** (como el bloque en donde está escrito este contenido) o del **tipo código** (donde vamos a escribir nuestros programas).\n",
    "\n",
    "## ¿Cómo se ejecuta una celda de tipo código?\n",
    "\n",
    "- Una opción es presionando **`Ctrl+Enter`** (o si tenés MAC, **`Cmd+Enter`**)\n",
    "- Otra forma de ejecutarlo es presionando el botón que aparece en la esquina superior izquierda del cuadro de texto con el código (parecido a *play*).\n",
    "- Siempre de arriba hacia abajo (mantenerse ordenado, por cuestiones de reproducibilidad)."
   ]
  },
  {
   "cell_type": "markdown",
   "metadata": {
    "id": "6AB7wy0q0i9G"
   },
   "source": [
    "# Programas Básicos y Variables\n"
   ]
  },
  {
   "cell_type": "markdown",
   "metadata": {
    "id": "YSN3o-s_1NL9"
   },
   "source": [
    "## Output y Función `print()`\n",
    "\n",
    "El output de un programa es la manera de transmitir información hacia su entorno. En Google Colaboratory veremos el output del programa debajo de la celda donde fue ejecutado.\n",
    "\n",
    "Para mostrar un dato en la pantalla, podemos utilizar el comando **`print( )`**, poniendo el dato que deseemos entre los parentesis. Notar que, para escribir texto, se debe indicar con comillas simples o dobles y para escribir números no se deben aplicar comillas."
   ]
  },
  {
   "cell_type": "code",
   "execution_count": null,
   "metadata": {
    "colab": {
     "base_uri": "https://localhost:8080/"
    },
    "executionInfo": {
     "elapsed": 733,
     "status": "ok",
     "timestamp": 1619816698763,
     "user": {
      "displayName": "Luis Biedma",
      "photoUrl": "https://lh3.googleusercontent.com/a-/AOh14GivnmLuRIxS9lUJIab_jBRyUUVXwgw6YDePJVsZRQ=s64",
      "userId": "05716356731980388913"
     },
     "user_tz": 180
    },
    "id": "BZKuwhnM1fMF",
    "outputId": "002d57dd-6bfb-4fe0-f744-0e811263a210"
   },
   "outputs": [
    {
     "name": "stdout",
     "output_type": "stream",
     "text": [
      "123\n",
      "Hola, cómo estas?\n",
      "Buen día\n"
     ]
    }
   ],
   "source": [
    "print(123)\n",
    "print(\"Hola, cómo estas?\")\n",
    "print('Buen día')"
   ]
  },
  {
   "cell_type": "markdown",
   "metadata": {
    "id": "xSmYrSMo3JWW"
   },
   "source": [
    "## ¿Qué es una Variable?\n",
    "\n",
    "En programación, se le asigna un nombre o \"apodo\" a cada pequeño segmento de la memoria que almacena un dato o un valor.\n",
    "Una variable es un espacio reservado en memoria al que le ponemos un \"apodo\", en el que se puede almacenar algo (un elemento o dato) y que permite recuperar/transformar/modificar lo almacenado si lo volvemos a declarar una vez guardado previamente, invocándolo por su \"apodo\".\n",
    "\n",
    "\n",
    "Para que un programa funcione y pueda realizar tareas es necesario guardar en la memoria de la computadora los datos que necesita. De esta forma, cada vez que se usa este nombre en el programa se esta refiriendo al valor del dato almacenado en la memoria. Este es el concepto de \"variable\".\n",
    "\n",
    "En python esto se logra de la siguiente manera:\n"
   ]
  },
  {
   "cell_type": "code",
   "execution_count": null,
   "metadata": {
    "colab": {
     "base_uri": "https://localhost:8080/"
    },
    "executionInfo": {
     "elapsed": 701,
     "status": "ok",
     "timestamp": 1619816923512,
     "user": {
      "displayName": "Luis Biedma",
      "photoUrl": "https://lh3.googleusercontent.com/a-/AOh14GivnmLuRIxS9lUJIab_jBRyUUVXwgw6YDePJVsZRQ=s64",
      "userId": "05716356731980388913"
     },
     "user_tz": 180
    },
    "id": "mFOx8nO71nL-",
    "outputId": "aebd1584-540e-4d97-934d-f478ec77a0dc"
   },
   "outputs": [
    {
     "name": "stdout",
     "output_type": "stream",
     "text": [
      "5\n"
     ]
    }
   ],
   "source": [
    "x = \"5\"\n",
    "print(x)"
   ]
  },
  {
   "cell_type": "markdown",
   "metadata": {
    "id": "NSJEwTaD1puN"
   },
   "source": [
    "En estas variables podemos guardar lo que sea necesario para ejecutar el programa. Por ejemplo, si necesitamos guardar texto se indica con: \"(texto)\" o '(texto)'.\n",
    "\n",
    "Notar que para asignar una variable el símbolo que utilizamos fue el **`=`**. A este operador lo llamamos **operador de asignación**."
   ]
  },
  {
   "cell_type": "code",
   "execution_count": null,
   "metadata": {
    "colab": {
     "base_uri": "https://localhost:8080/"
    },
    "executionInfo": {
     "elapsed": 607,
     "status": "ok",
     "timestamp": 1619817070982,
     "user": {
      "displayName": "Luis Biedma",
      "photoUrl": "https://lh3.googleusercontent.com/a-/AOh14GivnmLuRIxS9lUJIab_jBRyUUVXwgw6YDePJVsZRQ=s64",
      "userId": "05716356731980388913"
     },
     "user_tz": 180
    },
    "id": "n0hO9z801r82",
    "outputId": "75924ffd-0f07-4bf1-ee9f-6b48727bd0dd"
   },
   "outputs": [
    {
     "name": "stdout",
     "output_type": "stream",
     "text": [
      "Hola Mundo!\n",
      "Adios Mundo!\n",
      "123\n"
     ]
    }
   ],
   "source": [
    "x = 'Hola Mundo!'\n",
    "y = \"Adios Mundo!\"\n",
    "z = 123\n",
    "print(x)\n",
    "print(y)\n",
    "print(z)"
   ]
  },
  {
   "cell_type": "markdown",
   "metadata": {
    "id": "rJ-2Ua3b-RIj"
   },
   "source": [
    "Entonces, cuando al comando **`print()`** le \"damos de comer\" la variable **`x`**, lo que hace el programa es mostrarnos el contenido de esa variable (es decir, el dato que está almacenado en ese espacio en memoria) y no la letra \"x\".\n",
    "¿Cómo podría hacer un programa que imprima la letra \"x\"?"
   ]
  },
  {
   "cell_type": "code",
   "execution_count": null,
   "metadata": {
    "id": "pZVQnFVR-8sC"
   },
   "outputs": [],
   "source": [
    "# Esto es un comentario!\n",
    "# Los comentarios no son ejecutados por Python\n",
    "\n",
    "x = #Acá tu código\n",
    "print(x)"
   ]
  },
  {
   "cell_type": "markdown",
   "metadata": {
    "id": "NWySnvJu1ti1"
   },
   "source": [
    "Algo importante a tener en cuenta es que no es necesario aclarar de antemano si las variables son textos (Strings) o números, sino que el lenguaje lo puede identificar automáticamente.\n",
    "\n",
    "Otra cuestión importante a considerar es que el \"apodo\" o nombre que recibirá una variable debe cumplir ciertas reglas o restricciones impuestas por el propio lenguaje. Estas reglas son:\n",
    "- El nombre de una variable no puede comenzar por un número (para que el lenguaje no lo confunda con un número, justamente). Debe empezar por una letra (a-z, A-Z) o un guión bajo (_).\n",
    "- Los restantes caracteres pueden ser alfanuméricos o _\n",
    "- Los caracteres en mayúscula son diferentes a los mismos caracteres en minúscula (case sensitive)\n",
    "- No se pueden utilizar palabras reservadas por Python como nombres de variables. Por ejemplo: `print`, `if`, `else`, `for`, entre otras. Esto es porque Python las usa para otros fines y ya tienen un significado especial."
   ]
  },
  {
   "cell_type": "code",
   "execution_count": null,
   "metadata": {
    "colab": {
     "base_uri": "https://localhost:8080/"
    },
    "executionInfo": {
     "elapsed": 580,
     "status": "ok",
     "timestamp": 1619817763785,
     "user": {
      "displayName": "Luis Biedma",
      "photoUrl": "https://lh3.googleusercontent.com/a-/AOh14GivnmLuRIxS9lUJIab_jBRyUUVXwgw6YDePJVsZRQ=s64",
      "userId": "05716356731980388913"
     },
     "user_tz": 180
    },
    "id": "mkCi3Bn0Aiee",
    "outputId": "9ae8ab04-bf8a-40e0-d74c-d41752543650"
   },
   "outputs": [
    {
     "name": "stdout",
     "output_type": "stream",
     "text": [
      "\n",
      "Here is a list of the Python keywords.  Enter any keyword to get more help.\n",
      "\n",
      "False               class               from                or\n",
      "None                continue            global              pass\n",
      "True                def                 if                  raise\n",
      "and                 del                 import              return\n",
      "as                  elif                in                  try\n",
      "assert              else                is                  while\n",
      "async               except              lambda              with\n",
      "await               finally             nonlocal            yield\n",
      "break               for                 not                 \n",
      "\n"
     ]
    }
   ],
   "source": [
    "help('keywords')"
   ]
  },
  {
   "cell_type": "markdown",
   "metadata": {
    "id": "Icjqr3dn1vn0"
   },
   "source": [
    "## Inputs de un Programa\n",
    "El input de un programa es la forma de recibir información del entorno externo al programa. Esto puede ser un usuario, un archivo, otro programa, etc. \n",
    "\n",
    "Para solicitar el ingreso de una variable podemos usar **`input(\"Texto a mostrar en interfaz: \")`**. Cuando corran este código, les aparecerá una pequeña casilla donde tendrán que escribir, y luego el programa continuará. "
   ]
  },
  {
   "cell_type": "code",
   "execution_count": null,
   "metadata": {
    "id": "THDSQvb71y0O"
   },
   "outputs": [],
   "source": [
    "nombre = input(\"Ingrese su nombre: \")\n",
    "edad = input(\"Ingrese su edad: \")\n",
    "\n",
    "print(\"La variable nombre es:\", nombre)\n",
    "print(\"La variable edad es:\", edad)"
   ]
  },
  {
   "cell_type": "markdown",
   "metadata": {
    "id": "vcFTFQcD15On"
   },
   "source": [
    "Un detalle a tener en cuenta es que la información ingresada por el usuario al utilizar `input()` será interpretada siempre como texto, y no como un número. Por lo tanto, si queremos almacenar un número un valor imputado vamos a usar `int()` para convertir ese texto en el numero correspondiente. La proxima clase quedará claro por qué debemos hacer esto y qué es el tipo de una variable."
   ]
  },
  {
   "cell_type": "markdown",
   "metadata": {
    "id": "PUnb4N8i17ut"
   },
   "source": [
    "# Operaciones Básicas con Variables\n"
   ]
  },
  {
   "cell_type": "markdown",
   "metadata": {
    "id": "nLIjci3h193F"
   },
   "source": [
    "### Operaciones de Modificación\n"
   ]
  },
  {
   "cell_type": "markdown",
   "metadata": {
    "id": "BCGsM4r72Gb2"
   },
   "source": [
    "Las operaciones básicas que pueden llevarse a cabo utilizando variables:\n",
    "\n",
    "- Sumar dos variables ( $a+b$ ):\n",
    "\n",
    "  `a + b`\n",
    "\n",
    "- Restar dos variables ( $a-b$ ):\n",
    "\n",
    "  `a − b`\n",
    "\n",
    "- Multiplicar dos variables ( $a\\cdot b$ ):\n",
    "\n",
    "  `a * b`\n",
    "\n",
    "- Dividir una variable por la otra ( $a\\div b$ ):\n",
    "\n",
    "  `a / b` \n",
    "\n",
    "- Una variable elevada a la otra ( $a^b$ ): \n",
    "\n",
    "  `a ** b`\n",
    "\n",
    "- Asignarle un valor a una variable ( $a\\leftarrow b$ ):\n",
    "\n",
    "  `a = b`\n",
    "  \n",
    "\n",
    "¿Cual será la salida del siguiente programa?"
   ]
  },
  {
   "cell_type": "code",
   "execution_count": null,
   "metadata": {
    "id": "3IYJ3nrV2Hpt"
   },
   "outputs": [],
   "source": [
    "x = 3\n",
    "y = -2\n",
    "y = x*y\n",
    "x = x**2\n",
    "print(\"y =\", y)\n",
    "print(\"x =\", x)"
   ]
  },
  {
   "cell_type": "markdown",
   "metadata": {
    "id": "TrMtUbrt2urw"
   },
   "source": [
    "#### **Ejercicio 1:** Operadores\n",
    "\n",
    "1. Diseñar un programa en el cual el usuario ingrese tres números, uno a la vez, y se muestre como salida tanto el promedio como la [media geométrica](https://es.wikipedia.org/wiki/Media_geom%C3%A9trica) de los tres números.\n",
    "\n",
    "2. Diseñar un programa en el cual el usuario ingrese, para dos productos diferentes, el precio unitario del producto y la cantidad que desea comprar del mismo, y se muestre como salida el total de la factura."
   ]
  },
  {
   "cell_type": "code",
   "execution_count": null,
   "metadata": {
    "id": "C-pZ0-Jt4LSp"
   },
   "outputs": [],
   "source": [
    "# Código Ejercicio 1 Apartado 1"
   ]
  },
  {
   "cell_type": "code",
   "execution_count": null,
   "metadata": {
    "id": "GG1YOUmf4LS1"
   },
   "outputs": [],
   "source": [
    "# Código Ejercicio 1 Apartado 2"
   ]
  },
  {
   "cell_type": "markdown",
   "metadata": {
    "id": "AuCHBB6d23gk"
   },
   "source": [
    "### Operadores Módulo y Cociente Entero\n"
   ]
  },
  {
   "cell_type": "markdown",
   "metadata": {
    "id": "cDafAOFB2_7w"
   },
   "source": [
    "El **operador módulo** permite calcular el resto en una división de un número por otro. Para aplicarlo se utiliza el símbolo **%**. Por ejemplo:\n",
    "\n",
    "*   $5$ % $3$ $= 2$\n",
    "*   $17$ % $10$ $= 7$\n",
    "*   $9$ % $6$ $= 3$\n",
    "*   $15$ % $5$ $= 0$\n",
    "\n",
    "Una aplicación de utilidad consiste en preguntar si el resto de un numero **x** en la division por **y** es igual a 0 y, de esta forma, saber si **x** es multiplo de **y**:"
   ]
  },
  {
   "cell_type": "code",
   "execution_count": null,
   "metadata": {
    "colab": {
     "base_uri": "https://localhost:8080/"
    },
    "executionInfo": {
     "elapsed": 716,
     "status": "ok",
     "timestamp": 1619823167651,
     "user": {
      "displayName": "Luis Biedma",
      "photoUrl": "https://lh3.googleusercontent.com/a-/AOh14GivnmLuRIxS9lUJIab_jBRyUUVXwgw6YDePJVsZRQ=s64",
      "userId": "05716356731980388913"
     },
     "user_tz": 180
    },
    "id": "IFyZa-ie3B9d",
    "outputId": "b0c485bc-218d-424f-8d22-404bbcf3ee1b"
   },
   "outputs": [
    {
     "name": "stdout",
     "output_type": "stream",
     "text": [
      "Resultado: 0\n"
     ]
    }
   ],
   "source": [
    "x = 27\n",
    "y = 9\n",
    "print(\"Resultado:\", x % y )"
   ]
  },
  {
   "cell_type": "code",
   "execution_count": null,
   "metadata": {
    "colab": {
     "base_uri": "https://localhost:8080/"
    },
    "executionInfo": {
     "elapsed": 4967,
     "status": "ok",
     "timestamp": 1619823299965,
     "user": {
      "displayName": "Luis Biedma",
      "photoUrl": "https://lh3.googleusercontent.com/a-/AOh14GivnmLuRIxS9lUJIab_jBRyUUVXwgw6YDePJVsZRQ=s64",
      "userId": "05716356731980388913"
     },
     "user_tz": 180
    },
    "id": "OzJlQct53plk",
    "outputId": "4c83fc9c-d77f-4817-fb01-6d12e42b8092"
   },
   "outputs": [
    {
     "name": "stdout",
     "output_type": "stream",
     "text": [
      "Ingrese un número:210\n",
      "Es el número par? True\n",
      "Es el número multiplo de 3? True\n",
      "Es el número multiplo de 5? True\n",
      "Es el número multiplo de 7? True\n"
     ]
    }
   ],
   "source": [
    "x = int( input(\"Ingrese un número:\") )\n",
    "print(\"Es el número par?\", x%2 == 0 )\n",
    "print(\"Es el número multiplo de 3?\", x%3 == 0 )\n",
    "print(\"Es el número multiplo de 5?\", x%5 == 0 )\n",
    "print(\"Es el número multiplo de 7?\", x%7 == 0 )"
   ]
  },
  {
   "cell_type": "markdown",
   "metadata": {
    "id": "WtdZC-PQnhAM"
   },
   "source": [
    "Por otro lado, el operador **//** permite obtener el cociente truncado a cero decimales. Es decir, la parte entera del resultado de la división."
   ]
  },
  {
   "cell_type": "code",
   "execution_count": null,
   "metadata": {
    "colab": {
     "base_uri": "https://localhost:8080/"
    },
    "executionInfo": {
     "elapsed": 672,
     "status": "ok",
     "timestamp": 1619823467082,
     "user": {
      "displayName": "Luis Biedma",
      "photoUrl": "https://lh3.googleusercontent.com/a-/AOh14GivnmLuRIxS9lUJIab_jBRyUUVXwgw6YDePJVsZRQ=s64",
      "userId": "05716356731980388913"
     },
     "user_tz": 180
    },
    "id": "XwDm-VGSngtD",
    "outputId": "8713812a-5e72-46e4-faf1-e1f6e6844db1"
   },
   "outputs": [
    {
     "name": "stdout",
     "output_type": "stream",
     "text": [
      "Resultado: 3.3333333333333335\n",
      "Resultado: 3\n"
     ]
    }
   ],
   "source": [
    "x = 10\n",
    "y = 3\n",
    "print(\"Resultado:\", x / y)\n",
    "print(\"Resultado:\", x // y )"
   ]
  },
  {
   "cell_type": "markdown",
   "metadata": {
    "id": "sHDZxJOaEe9C"
   },
   "source": [
    "#### **Ejercicio 2:** Módulo y Cociente Entero\n",
    "\n",
    "1. Diseñar un programa en el cual el usuario ingrese un número, y se muestre como salida un texto que indique si el número es par o impar.\n",
    "\n",
    "2. Una línea de producción tiene la capacidad de hacer 12 cuadernos por minuto. Sin embargo, la capacidad logística diaria permite manipular solo hasta 10000 cuadernos por día. Elaborar un programa que ayude a determinar a qué hora debería frenarse la línea de producción para evitar problemas logísticos, dado que el usuario ingresa la hora a la que comienza a producir la línea (0-24 hs)."
   ]
  },
  {
   "cell_type": "code",
   "execution_count": null,
   "metadata": {
    "id": "82dqcMvjH71W"
   },
   "outputs": [],
   "source": [
    "# Código Ejercicio 2 Apartado 1"
   ]
  },
  {
   "cell_type": "code",
   "execution_count": 3,
   "metadata": {
    "colab": {
     "base_uri": "https://localhost:8080/"
    },
    "executionInfo": {
     "elapsed": 4016,
     "status": "ok",
     "timestamp": 1620419376147,
     "user": {
      "displayName": "Luis Biedma",
      "photoUrl": "https://lh3.googleusercontent.com/a-/AOh14GivnmLuRIxS9lUJIab_jBRyUUVXwgw6YDePJVsZRQ=s64",
      "userId": "05716356731980388913"
     },
     "user_tz": 180
    },
    "id": "AhdEzkjKoiWK",
    "outputId": "1ad43d95-7841-4c6b-8994-9a1f3042b043"
   },
   "outputs": [
    {
     "name": "stdout",
     "output_type": "stream",
     "text": [
      "Ingrese una hora de inicio (entre 0 y 24): 11\n",
      "Nos va a tomar 14.0  horas fabricar los cuadernos necesarios\n",
      "Vamos a terminar producción a las  1.0\n"
     ]
    }
   ],
   "source": [
    "hora_inicio = int(input(\"Ingrese una hora de inicio (entre 0 y 24): \"))\n",
    "horas_de_produccion = (10000 / 12) // 60 + 1 # sumamos 1 para asegurar que vamos a estar listos a esa hora\n",
    "print(\"Nos va a tomar\", horas_de_produccion, \" horas fabricar los cuadernos necesarios\")\n",
    "hora_finalizacion = (hora_inicio + horas_de_produccion) % 24\n",
    "print(\"Vamos a terminar producción a las \", hora_finalizacion)"
   ]
  },
  {
   "cell_type": "markdown",
   "metadata": {
    "id": "oL48nCbz3Qnt"
   },
   "source": [
    "### Operaciones de Comparación\n"
   ]
  },
  {
   "cell_type": "markdown",
   "metadata": {
    "id": "6LrP-ea23Zks"
   },
   "source": [
    "Existen operaciones que permiten comparar propiedades de las variables. Las principales formas de comparación son:\n",
    "\n",
    "*   Menor que ( $a < b$ ):\n",
    "\n",
    " `a < b`\n",
    "\n",
    "*   Mayor que ( $a > b$ ):\n",
    "\n",
    " `a > b`\n",
    "\n",
    "*   Menor o igual que ( $a \\leq b$ ):\n",
    "\n",
    " `a <= b`\n",
    "\n",
    "*   Mayor o igual que ( $a \\geq b$ ):\n",
    "\n",
    " `a >= b`\n",
    "\n",
    "*   Es igual ( $a = b$ ):\n",
    "\n",
    " `a == b` (Ojo: se utilizan 2 símbolos `=` para diferenciarse del operador asignación)\n",
    "\n",
    "*   Es distinto ( $a \\neq b$ ):\n",
    "\n",
    " `a != b`\n",
    "\n",
    "\n",
    "Al comprarar dos números, se obtiene **`True`** o **`False`** (Verdadero o Falso) según si se cumple o no la condición establecida:"
   ]
  },
  {
   "cell_type": "code",
   "execution_count": null,
   "metadata": {
    "colab": {
     "base_uri": "https://localhost:8080/"
    },
    "executionInfo": {
     "elapsed": 708,
     "status": "ok",
     "timestamp": 1619824309307,
     "user": {
      "displayName": "Luis Biedma",
      "photoUrl": "https://lh3.googleusercontent.com/a-/AOh14GivnmLuRIxS9lUJIab_jBRyUUVXwgw6YDePJVsZRQ=s64",
      "userId": "05716356731980388913"
     },
     "user_tz": 180
    },
    "id": "DLNd0IkK3fUF",
    "outputId": "5722867f-2ee7-4341-f784-a53b0ea49785"
   },
   "outputs": [
    {
     "name": "stdout",
     "output_type": "stream",
     "text": [
      "Es x distinto de 4? False\n",
      "Es x menor a 3? False\n"
     ]
    }
   ],
   "source": [
    "x = 4\n",
    "print(\"Es x distinto de 4?\", x != 4)\n",
    "print(\"Es x menor a 3?\", x < 3)"
   ]
  },
  {
   "cell_type": "markdown",
   "metadata": {
    "id": "_NhDBRGW4Du4"
   },
   "source": [
    "También se pueden combinar diversas condiciones:\n",
    "\n",
    "*  Si se cumplen las dos condiciones ( $a \\land b$ ):\n",
    "\n",
    "  `a and b`\n",
    "\n",
    "*  Si se cumple alguna de las condiciones ( $ a \\lor b$ ):\n",
    "\n",
    "  `a or b`\n",
    "\n",
    "*  Si no se cumple esa condición ( $ \\overline{a} $ ):\n",
    "\n",
    "  `not a`\n",
    "\n",
    "\n",
    "Veamos un ejemplo:"
   ]
  },
  {
   "cell_type": "code",
   "execution_count": null,
   "metadata": {
    "colab": {
     "base_uri": "https://localhost:8080/"
    },
    "executionInfo": {
     "elapsed": 69444,
     "status": "ok",
     "timestamp": 1619824587651,
     "user": {
      "displayName": "Luis Biedma",
      "photoUrl": "https://lh3.googleusercontent.com/a-/AOh14GivnmLuRIxS9lUJIab_jBRyUUVXwgw6YDePJVsZRQ=s64",
      "userId": "05716356731980388913"
     },
     "user_tz": 180
    },
    "id": "yXLcUyqR4Fwd",
    "outputId": "fa6454ea-fbf1-4e3a-8ca1-a88960e7e92e"
   },
   "outputs": [
    {
     "name": "stdout",
     "output_type": "stream",
     "text": [
      "Ingrese un numero:4\n",
      "x > 5 y x < 7? False\n",
      "x > 5 o x < 7? True\n",
      "Es x NO mayor a 5? True\n"
     ]
    }
   ],
   "source": [
    "x = int(input(\"Ingrese un numero:\"))\n",
    "y = x > 5 and x < 7\n",
    "z = x > 5 or x < 7\n",
    "k = not x > 5\n",
    "print(\"x > 5 y x < 7?\", y)\n",
    "print(\"x > 5 o x < 7?\", z)\n",
    "print(\"Es x NO mayor a 5?\", k)"
   ]
  },
  {
   "cell_type": "markdown",
   "metadata": {
    "id": "0XA2fgcf4j5c"
   },
   "source": [
    "Estas condiciones pueden agruparse a su vez con (*condicion1*) **and/or** (*condicion2*), lo cual permite chequar condiciones más complejas:"
   ]
  },
  {
   "cell_type": "code",
   "execution_count": null,
   "metadata": {
    "colab": {
     "base_uri": "https://localhost:8080/"
    },
    "executionInfo": {
     "elapsed": 31279,
     "status": "ok",
     "timestamp": 1619824721071,
     "user": {
      "displayName": "Luis Biedma",
      "photoUrl": "https://lh3.googleusercontent.com/a-/AOh14GivnmLuRIxS9lUJIab_jBRyUUVXwgw6YDePJVsZRQ=s64",
      "userId": "05716356731980388913"
     },
     "user_tz": 180
    },
    "id": "CD3MFAO74o-r",
    "outputId": "ee3a521f-59b0-4c7f-94c5-d99e566fb63c"
   },
   "outputs": [
    {
     "name": "stdout",
     "output_type": "stream",
     "text": [
      "Ingrese el primer número:30\n",
      "Ingrese el segundo número:-2\n",
      "El valor absoluto de ambos numeros es mayor a 15? False\n"
     ]
    }
   ],
   "source": [
    "x = int(input(\"Ingrese el primer número:\"))\n",
    "y = int(input(\"Ingrese el segundo número:\"))\n",
    "z = ( x> 15 or x <-15) and ( y > 15 or y < -15 )\n",
    "print(\"El valor absoluto de ambos numeros es mayor a 15?\", z)"
   ]
  },
  {
   "cell_type": "markdown",
   "metadata": {
    "id": "n56xx_1Z4pMT"
   },
   "source": [
    "¿Cuáles creen que serán los resultados de ejecutar las siguientes operaciones lógicas?\n",
    "\n",
    "- True and True\n",
    "- True and False\n",
    "- False and True\n",
    "- False and False\n",
    "\n",
    "\n",
    "- True or True\n",
    "- True or False\n",
    "- False or True\n",
    "- False or False\n",
    "\n",
    "\n",
    "- not True\n",
    "- not False"
   ]
  },
  {
   "cell_type": "markdown",
   "metadata": {
    "id": "bwrd7_6gsKxh"
   },
   "source": [
    "#### **Ejercicio 3:** Comparaciones\n",
    "\n",
    "1. Diseñar un programa en el cual el usuario ingrese dos veces un número, y se muestre como salida un texto que indique si el primer número es mayor, igual o menor al segundo número ingresado.\n",
    "\n",
    "2. El horario de atención de un local comercial es de 10 a 13 y de 16 a 20 horas. Elaborar un programa que reciba como input la hora a la que arriba un cliente y que devuelva como salida si el local se encuentra abierto o cerrado."
   ]
  },
  {
   "cell_type": "code",
   "execution_count": null,
   "metadata": {
    "id": "bXeBx3vS-dvo"
   },
   "outputs": [],
   "source": [
    "# Código Ejercicio 3 Apartado 1"
   ]
  },
  {
   "cell_type": "code",
   "execution_count": null,
   "metadata": {
    "id": "JaOfPW7NuCtT"
   },
   "outputs": [],
   "source": [
    "# Código Ejercicio 3 Apartado 2"
   ]
  },
  {
   "cell_type": "markdown",
   "metadata": {
    "id": "ZQdp0tOKuRbx"
   },
   "source": [
    "## Orden de Evaluación y Precedencia de Operadores Aritméticos y Lógicos\n",
    "\n"
   ]
  },
  {
   "cell_type": "markdown",
   "metadata": {
    "id": "k6HlKS8mvFE4"
   },
   "source": [
    "Python evalua expresiones de izquierda a derecha y separa por términos como nosotros, excepto que usemos paréntesis.\n",
    "\n",
    "¿Cómo será la separación en términos para operaciones lógicas?\n",
    "\n",
    "![picture](https://lh5.googleusercontent.com/-RV4ZNzB5qvU/TeSJEIHEeSI/AAAAAAAAAJ0/-JVpFJBnxHs/CU00133A_1.png)\n"
   ]
  },
  {
   "cell_type": "markdown",
   "metadata": {
    "id": "fgRXjvRJm_bo"
   },
   "source": [
    "\n",
    "Algunos ejemplos que sirven para ilustrar este punto son los siguientes:"
   ]
  },
  {
   "cell_type": "code",
   "execution_count": null,
   "metadata": {
    "colab": {
     "base_uri": "https://localhost:8080/"
    },
    "executionInfo": {
     "elapsed": 678,
     "status": "ok",
     "timestamp": 1619825495475,
     "user": {
      "displayName": "Luis Biedma",
      "photoUrl": "https://lh3.googleusercontent.com/a-/AOh14GivnmLuRIxS9lUJIab_jBRyUUVXwgw6YDePJVsZRQ=s64",
      "userId": "05716356731980388913"
     },
     "user_tz": 180
    },
    "id": "GRZNSQ6fbecz",
    "outputId": "72c14a59-f6b9-4c55-cd83-32c7e36fc57a"
   },
   "outputs": [
    {
     "name": "stdout",
     "output_type": "stream",
     "text": [
      "0.2\n",
      "3.5\n"
     ]
    }
   ],
   "source": [
    "print(1 / (2 + 3))\n",
    "print(1 / 2 + 3)"
   ]
  },
  {
   "cell_type": "code",
   "execution_count": null,
   "metadata": {
    "colab": {
     "base_uri": "https://localhost:8080/"
    },
    "executionInfo": {
     "elapsed": 723,
     "status": "ok",
     "timestamp": 1619825547386,
     "user": {
      "displayName": "Luis Biedma",
      "photoUrl": "https://lh3.googleusercontent.com/a-/AOh14GivnmLuRIxS9lUJIab_jBRyUUVXwgw6YDePJVsZRQ=s64",
      "userId": "05716356731980388913"
     },
     "user_tz": 180
    },
    "id": "3fneAibtbeS1",
    "outputId": "3c605f2a-3e5f-4814-9a53-0b672e5d942f"
   },
   "outputs": [
    {
     "name": "stdout",
     "output_type": "stream",
     "text": [
      "1.5\n",
      "0.16666666666666666\n"
     ]
    }
   ],
   "source": [
    "print(1 / 2 * 3)\n",
    "print(1 / (2 * 3))"
   ]
  },
  {
   "cell_type": "code",
   "execution_count": null,
   "metadata": {
    "colab": {
     "base_uri": "https://localhost:8080/"
    },
    "executionInfo": {
     "elapsed": 723,
     "status": "ok",
     "timestamp": 1619825583577,
     "user": {
      "displayName": "Luis Biedma",
      "photoUrl": "https://lh3.googleusercontent.com/a-/AOh14GivnmLuRIxS9lUJIab_jBRyUUVXwgw6YDePJVsZRQ=s64",
      "userId": "05716356731980388913"
     },
     "user_tz": 180
    },
    "id": "mP3uwBxobeK1",
    "outputId": "d39bc781-8c0d-4e88-9d9e-fe3cb8bf5c0c"
   },
   "outputs": [
    {
     "name": "stdout",
     "output_type": "stream",
     "text": [
      "3\n",
      "8\n"
     ]
    }
   ],
   "source": [
    "print(1 ** 2 * 3)\n",
    "print(1 * 2 ** 3)"
   ]
  },
  {
   "cell_type": "code",
   "execution_count": null,
   "metadata": {
    "colab": {
     "base_uri": "https://localhost:8080/"
    },
    "executionInfo": {
     "elapsed": 2164,
     "status": "ok",
     "timestamp": 1619699568962,
     "user": {
      "displayName": "sofia lujan",
      "photoUrl": "https://lh3.googleusercontent.com/a-/AOh14GhRjGY1pGqEbZ6NzzBty0QMgutVKtWpvUr5f7ch8Q=s64",
      "userId": "04644358706352499859"
     },
     "user_tz": 180
    },
    "id": "roFAaLJ9uRIm",
    "outputId": "90a0ecd7-94ca-4efb-d922-7960abaf51ab"
   },
   "outputs": [
    {
     "name": "stdout",
     "output_type": "stream",
     "text": [
      "True\n",
      "False\n"
     ]
    }
   ],
   "source": [
    "print(True or False and False)\n",
    "print((True or False) and False)"
   ]
  },
  {
   "cell_type": "markdown",
   "metadata": {
    "id": "J2FkAJt9-h5D"
   },
   "source": [
    "# Ejercicios Integradores"
   ]
  },
  {
   "cell_type": "markdown",
   "metadata": {
    "id": "GNGPP_3g-jtx"
   },
   "source": [
    "## Cálculo de Promedio \n",
    "Cálcular la nota de un alumno es una tarea cotidiana de un profesor. Esta tarea suele realizarse a mano o en excel muchas veces. En esta ocasión la haremos en python. \n",
    "- Pedir 3 veces que se ingrese una nota e imprimir en pantalla el promedio de las mismas.\n",
    "- Hacer lo mismo, pero asignar una importancia al primer examen de 20%, al segundo de 50% y al tercero de 30%.\n",
    "- Además, imprimir en pantalla `True` si la nota es mayor o igual que 4. Caso contrario, imprimir `False`."
   ]
  },
  {
   "cell_type": "code",
   "execution_count": null,
   "metadata": {
    "id": "joVjiSFksjjX"
   },
   "outputs": [],
   "source": []
  },
  {
   "cell_type": "markdown",
   "metadata": {
    "id": "-2Vkvl97DJQ1"
   },
   "source": [
    "## Cálculo del [Área de un Círculo](https://es.wikipedia.org/wiki/C%C3%ADrculo)\n",
    "\n",
    "Escribir un programa que reciba el diámetro de un círculo e imprima en pantalla su área. Para ello, usar la constante `pi` provista.\n"
   ]
  },
  {
   "cell_type": "code",
   "execution_count": null,
   "metadata": {
    "id": "haar3E2TDWWr"
   },
   "outputs": [],
   "source": [
    "pi = 3.14159265359"
   ]
  },
  {
   "cell_type": "code",
   "execution_count": null,
   "metadata": {
    "id": "t768vuenDiFw"
   },
   "outputs": [],
   "source": []
  }
 ],
 "metadata": {
  "colab": {
   "collapsed_sections": [],
   "name": "M0.U2 Introducción a la Programación - Clase 1.ipynb",
   "provenance": [],
   "toc_visible": true
  },
  "kernelspec": {
   "display_name": "Python 3",
   "language": "python",
   "name": "python3"
  },
  "language_info": {
   "codemirror_mode": {
    "name": "ipython",
    "version": 3
   },
   "file_extension": ".py",
   "mimetype": "text/x-python",
   "name": "python",
   "nbconvert_exporter": "python",
   "pygments_lexer": "ipython3",
   "version": "3.6.8"
  }
 },
 "nbformat": 4,
 "nbformat_minor": 4
}