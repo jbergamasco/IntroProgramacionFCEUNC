{
 "cells": [
  {
   "cell_type": "markdown",
   "metadata": {
    "id": "7cUqukj4_P_A"
   },
   "source": [
    "<a href=\"https://colab.research.google.com/github/lbiedma/IntroProgramacionFCEUNC/blob/main/guias/Guía%20Integradora%201.ipynb\" target=\"_parent\"><img src=\"https://colab.research.google.com/assets/colab-badge.svg\" alt=\"Open In Colab\"/></a>"
   ]
  },
  {
   "cell_type": "markdown",
   "metadata": {
    "id": "mgqhxY2yCx6i"
   },
   "source": [
    "# Guía Integradora 1\n",
    "\n",
    "---\n",
    "\n",
    "> Aplicaciones integradoras de los contenidos aprendidos hasta la clase 3.\n",
    "\n",
    "\n"
   ]
  },
  {
   "cell_type": "markdown",
   "metadata": {
    "id": "O63cYKbC1ABf"
   },
   "source": [
    "# Introducción"
   ]
  },
  {
   "cell_type": "markdown",
   "metadata": {
    "id": "9wbTEd7pASze"
   },
   "source": [
    "En la siguiente notebook, se plantean una serie de problemas que deberán resolver con programas, utilizando las herramientas provistas hasta la clase 3.\n",
    "\n",
    "*Nota: Esta guía puede resolverse sin importar ninguna librería de Python.*"
   ]
  },
  {
   "cell_type": "markdown",
   "metadata": {
    "id": "8L6F_M5JtFnN"
   },
   "source": [
    "# 1- Transacciones Bancarias\n",
    "\n",
    "Tener una cuenta bancaria es muy común hoy en día. Consideren que se necesita desarrollar una función a la que se le pueda ingresar el saldo inicial, una lista con el tipo de operación y el monto de cada operación realizada en el lapso de un mes, y devuelva el saldo final de ese mes.\n",
    "\n",
    "Además, las posibles operaciones que se pueden realizar son:\n",
    "- Depósito\n",
    "- Transferencia Recibida\n",
    "- Transferencia Realizada\n",
    "- Pago\n",
    "- Extracción\n",
    "\n",
    "Y cada operación tiene una comisión diferente:\n",
    "- Depósito: 0%\n",
    "- Transferencia Recibida: 0.01%\n",
    "- Transferencia Realizada: 0.1%\n",
    "- Pago: 0.5%\n",
    "- Extracción: 1%\n",
    "\n",
    "Finalmente, este tipo de cuenta rinde un interés de 1% mensual, según el saldo al inicio del mes.\n",
    "\n",
    "Desarrollar una función que cumpla con lo especificado."
   ]
  },
  {
   "cell_type": "code",
   "execution_count": null,
   "metadata": {
    "id": "lzTGVhL901Yi"
   },
   "outputs": [],
   "source": [
    "# Para probar\n",
    "# Estructura de ejemplo\n",
    "def saldo_cuenta(saldo_inicial, lista_operaciones):\n",
    "    saldo_final = saldo_inicial\n",
    "    return saldo_final\n",
    "\n",
    "# Inputs\n",
    "saldo_inicial = 0\n",
    "lista_operaciones = [('Depósito', 5000), ('Transferencia Realizada', 1000)]\n",
    "\n",
    "# Output\n",
    "# print(saldo_cuenta(saldo_inicial, lista_operaciones))\n",
    "# >>> El saldo de su cuenta es: $3999.00"
   ]
  },
  {
   "cell_type": "markdown",
   "metadata": {
    "id": "UynyOMH202d9"
   },
   "source": [
    "# 2- Lista del Super\n",
    "\n",
    "El siguiente diccionario, `productos`, contiene cantidades en stock y precios unitarios de los productos disponibles en un supermercado:"
   ]
  },
  {
   "cell_type": "code",
   "execution_count": null,
   "metadata": {
    "id": "1Sf52zG8jp9T"
   },
   "outputs": [],
   "source": [
    "productos = {\n",
    "    'milanesas 1kg': {\n",
    "        'stock': 15.2,\n",
    "        'precio': 832,\n",
    "        'fraccionable': True,\n",
    "    },\n",
    "    'aceite de girasol natura 1.5l': {\n",
    "        'stock': 5,\n",
    "        'precio': 259,\n",
    "        'fraccionable': False,\n",
    "    },\n",
    "    'arroz dos hermanos doble carolina 1kg'= {\n",
    "        'stock': 1,\n",
    "        'precio': 135,\n",
    "        'fraccionable': False,\n",
    "    },\n",
    "    'papa 1kg': {\n",
    "        'stock': 35.60,\n",
    "        'precio': 84.9,\n",
    "        'fraccionable': True,\n",
    "    },\n",
    "    'calabacín anquito 1kg': {\n",
    "        'stock': 4.25,\n",
    "        'precio': 59.9,\n",
    "        'fraccionable': True,\n",
    "    },\n",
    "    'cebolla 1kg'= {\n",
    "        'stock': 1.2,\n",
    "        'precio': 84.90,\n",
    "        'fraccionable': True,\n",
    "    },\n",
    "    'provenzal alicante 25g': {\n",
    "        'stock': 10,\n",
    "        'precio': 45.5,\n",
    "        'fraccionable': False,\n",
    "    },\n",
    "    'agua 2l': {\n",
    "        'stock': 15,\n",
    "        'precio': 62.90,\n",
    "        'fraccionable': False,\n",
    "    },\n",
    "    'cerveza andes rubia 1l': {\n",
    "        'stock': 1,\n",
    "        'precio': 177.90,\n",
    "        'fraccionable': False,\n",
    "    },\n",
    "    'pure de papas knorr con zapallo 125g': {\n",
    "        'stock': 1,\n",
    "        'precio': 117,\n",
    "        'fraccionable': False,\n",
    "    }\n",
    "}"
   ]
  },
  {
   "cell_type": "markdown",
   "metadata": {
    "id": "qIjNLS0vl8zT"
   },
   "source": [
    "Están planificando una cena en grupo y decidieron que van a comer milanesas con puré mixto y arroz primavera. Tienen que definir la lista de compras para tal fin. Un ejemplo de lista podría ser el siguiente:\n",
    "\n",
    "```\n",
    "mi_lista = [('milanesas', 1.5), ('aceite de girasol', 1),\n",
    "('pure de papas knorr con zapallo', 2), ('arroz', 1),\n",
    "('cerveza andes rubia', 2), ('zanahoria', 0.5)]\n",
    "```\n",
    "\n",
    "1. Elaborar un programa que tenga como input una lista de compras, con las respectivas cantidades para cada producto, y devuelva:\n",
    "\n",
    "- Los productos que no se encuentran disponibles en este supermercado.\n",
    "- Los productos que están en falta.\n",
    "- El monto total del carrito de compras.\n",
    "\n",
    "> Además, considerar que si no hay suficiente stock de un producto, se comprará hasta el máximo posible y que hay productos que se venden por unidad mientras que otros son fraccionables. De los fraccionables, considerar que se puede obtener la cantidad exacta.\n",
    "\n",
    "- Almacenar en un diccionario (`ticket`) el ticket de compra."
   ]
  },
  {
   "cell_type": "code",
   "execution_count": null,
   "metadata": {
    "id": "yd_xbjMhpGWn"
   },
   "outputs": [],
   "source": []
  },
  {
   "cell_type": "markdown",
   "metadata": {
    "id": "l7jifNWaJnDB"
   },
   "source": [
    "2. Solicitar que el usuario ingrese su nombre, apellido y últimos cuatro dígitos de su tarjeta de crédito y, a partir del ticket previamente almacenado, elaborar el cuerpo de un mail automático con los detalles de la compra. Un ejemplo de mail puede ser el siguiente:\n",
    "\n",
    "*Buenos días, Juana López.*\n",
    "\n",
    "*Usted ha realizado una compra por \\$2220,30, con su tarjeta de crédito terminada en 8740. A continuación sigue el detalle de su compra:*\n",
    "\n",
    "*- milanesas x 1.5*\n",
    "  \n",
    "*precio unitario = \\$832.00* || *total = \\$1248.00*\n",
    "\n",
    "*- arroz dos hermanos doble carolina 1kg x 1*\n",
    "  \n",
    "*precio unitario = \\$135.00* || *total = \\$135.00*\n",
    "...\n",
    "\n",
    "*¡Gracias por su compra!*\n",
    "\n",
    "*El Super*"
   ]
  },
  {
   "cell_type": "code",
   "execution_count": null,
   "metadata": {
    "id": "1tAES6x2Jm0r"
   },
   "outputs": [],
   "source": []
  },
  {
   "cell_type": "markdown",
   "metadata": {
    "id": "iwis_XylF6oQ"
   },
   "source": [
    "# 3- Ingresos de una Empresa\n",
    "\n",
    "Las ventas del mes de abril de una empresa fueron almacenadas en la siguiente lista, que contiene las cantidades vendidas para 10 productos:"
   ]
  },
  {
   "cell_type": "code",
   "execution_count": null,
   "metadata": {
    "id": "rhCXVmdmF57z"
   },
   "outputs": [],
   "source": [
    "ventas_q = [1204, 285, 219, 568, 563, 291, 682, 1295, 340, 452]"
   ]
  },
  {
   "cell_type": "markdown",
   "metadata": {
    "id": "HBX1Ok4qGQKn"
   },
   "source": [
    "Y los respectivos precios unitarios del mes se encuentran en esta otra:"
   ]
  },
  {
   "cell_type": "code",
   "execution_count": null,
   "metadata": {
    "id": "G4p0eewcGzNf"
   },
   "outputs": [],
   "source": [
    "precios = [123.23, 902.12, 107.3, 109.2, 192.56, 209.32, 909.2, 826.3, 683.32, 325.5]"
   ]
  },
  {
   "cell_type": "markdown",
   "metadata": {
    "id": "KeYmiYfYHOrc"
   },
   "source": [
    "1. A partir de estos datos, calcular e imprimir amigablemente:\n",
    "\n",
    "- Ingreso por producto\n",
    "- Ingreso total\n",
    "- Precio medio\n",
    "- Precio promedio ponderado\n",
    "- Guardar el ingreso calculado por producto en un diccionario, donde la clave sea el producto y el valor, el ingreso.\n",
    "\n",
    "2. El objetivo de ventas para el mes era de 3 millones. Elaborar una función que indique si el objetivo de venta se cumplió o no y qué porcentaje de desvío se produjo. ¿Y si el objetivo de ventas cambiara cada mes, cómo adaptarían la función para poder establecer un objetivo diferente cada vez que se llame la función?"
   ]
  },
  {
   "cell_type": "markdown",
   "metadata": {
    "id": "IxTNk5c5Clzd"
   },
   "source": [
    "# 4- Análisis del Precio de una Acción\n",
    "\n",
    "Una operacion muy común al manejar datos es la derivada\n",
    "\n",
    "$$ \\frac{d }{dt} (\\mathrm{Datos}) $$\n",
    "\n",
    "Escribir una función que reciba una lista de precios diarios de las acciones de una compañía. Llamemos $n$ a la cantidad de elementos en esta lista. Debe devolver una lista de tamaño $n-1$ con los valores de la *derivada discreta* de la lista recibida.\n",
    "\n",
    "La *derivada discreta* corresponde a la diferencia entre un elemento y su anterior, podemos usar la siguiente definición:\n",
    "* $\\mathrm{derivada}[i]=x[i+1]-x[i]$ \n",
    "\n",
    "Indicar el día en el cual se produjo el mayor salto positivo en el precio de las acciones, y el día en el cual se produjo el mayor salto negativo."
   ]
  },
  {
   "cell_type": "code",
   "execution_count": null,
   "metadata": {
    "id": "8cNXMscNC2Hi"
   },
   "outputs": [],
   "source": [
    "# Una lista de ejemplo puede ser el precio de Mercado Libre durante el mes de marzo de 2021.\n",
    "meli = [1713.28, 1642.41, 1528.0, 1458.64, 1470.24, 1369.54, 1452.01, 1435.57, 1570.78, 1550.15, 1581.32, 1550.49,\n",
    " 1537.62, 1436.17, 1448.89, 1476.11, 1446.65, 1387.85, 1402.5, 1431.97, 1403.42, 1428.03, 1472.14]"
   ]
  },
  {
   "cell_type": "code",
   "execution_count": null,
   "metadata": {
    "id": "x--JqKqKuLrV"
   },
   "outputs": [],
   "source": []
  }
 ],
 "metadata": {
  "colab": {
   "collapsed_sections": [
    "mgqhxY2yCx6i"
   ],
   "name": "M0.U2 Introducción a la Programación - Entregable 1.ipynb",
   "provenance": [],
   "toc_visible": true
  },
  "kernelspec": {
   "display_name": "Python 3",
   "language": "python",
   "name": "python3"
  },
  "language_info": {
   "codemirror_mode": {
    "name": "ipython",
    "version": 3
   },
   "file_extension": ".py",
   "mimetype": "text/x-python",
   "name": "python",
   "nbconvert_exporter": "python",
   "pygments_lexer": "ipython3",
   "version": "3.6.8"
  }
 },
 "nbformat": 4,
 "nbformat_minor": 4
}