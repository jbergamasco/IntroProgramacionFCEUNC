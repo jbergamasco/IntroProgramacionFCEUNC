{
 "cells": [
  {
   "cell_type": "markdown",
   "metadata": {
    "id": "7cUqukj4_P_A"
   },
   "source": [
    "<a href=\"https://colab.research.google.com/github/lbiedma/IntroProgramacionFCEUNC/blob/main/guias/Guía%20Integradora%202.ipynb\" target=\"_parent\"><img src=\"https://colab.research.google.com/assets/colab-badge.svg\" alt=\"Open In Colab\"/></a>"
   ]
  },
  {
   "cell_type": "markdown",
   "metadata": {
    "id": "mgqhxY2yCx6i"
   },
   "source": [
    "# Guía Integradora 2\n",
    "\n",
    "---\n",
    "\n",
    "> Aplicaciones integradoras de los contenidos aprendidos durante las 6 clases.\n",
    "\n",
    "\n"
   ]
  },
  {
   "cell_type": "markdown",
   "metadata": {
    "id": "O63cYKbC1ABf"
   },
   "source": [
    "# Introducción"
   ]
  },
  {
   "cell_type": "markdown",
   "metadata": {
    "id": "9wbTEd7pASze"
   },
   "source": [
    "En la siguiente notebook, se plantean una serie de problemas que deberán resolver con programas, utilizando las herramientas provistas durante el curso."
   ]
  },
  {
   "cell_type": "markdown",
   "metadata": {
    "id": "7q97dOd6BZN1"
   },
   "source": [
    "# 1- La Ruina del Apostador\n",
    "\n",
    "![stop](https://images.theconversation.com/files/189770/original/file-20171011-16678-1usvyrg.jpg?ixlib=rb-1.1.0&q=45&auto=format&w=926&fit=clip)\n",
    "\n",
    "La \"Ruina del Apostador\" (Gambler's Ruin) dice que una persona que juegue algún juego con un valor esperado negativo llegará a perder todo su dinero tarde o temprano, sin importar el sistema que use para apostar.\n",
    "\n",
    "Podemos hacer una simulación de este concepto en Python, usando la librería `random`.\n",
    "\n",
    "- Supongamos que comenzamos con 50 fichas (todas del mismo valor) y apostamos una ficha cada vez que jugamos.\n",
    "\n",
    "- Tenemos una probabilidad de 0.4 de ganar cada vez que jugamos (cómo podemos simular esto?). Si ganamos, tenemos una ficha más. Caso contrario, perdemos la ficha que apostamos.\n",
    "\n",
    "- En una noche se estima que podemos jugar este juego hasta 300 veces, pero si llegamos a tener 0 fichas ya no vamos a poder apostar en toda la noche.\n",
    "\n",
    "Crear un programa que simule nuestra noche de apuestas, que imprima en pantalla cuántas apuestas pudimos hacer antes de perder todo el dinero o si pudimos sobrevivir a las 300 apuestas.\n",
    "\n",
    "Para resolver el problema, crear una función que tenga como entradas la cantidad de fichas inicial, la probabilidad de victoria de cada juego y la cantidad máxima de veces que podemos jugar, que devuelva la cantidad de fichas con la que terminamos al final de la noche y la cantidad de apuestas que pudimos hacer.\n",
    "\n",
    "- Correr esta función 20 veces y obtener el valor medio de la cantidad de apuestas final.\n",
    "\n",
    "- Cuánto tiempo tarda cada simulación en ejecutarse? Imprimir en pantalla este tiempo cada vez que se corre la función."
   ]
  },
  {
   "cell_type": "code",
   "execution_count": null,
   "metadata": {
    "id": "lgPPWvo4FFab"
   },
   "outputs": [],
   "source": []
  },
  {
   "cell_type": "markdown",
   "metadata": {
    "id": "8L6F_M5JtFnN"
   },
   "source": [
    "# 2- Precios de Acciones y Carteras de Inversión\n",
    "\n",
    "![investing](https://dfi.wa.gov/sites/default/files/investing-stocks-16x9.jpg)\n",
    "\n",
    "Parte del Análisis Cuantitativo en Finanzas depende de la creación de Carteras de Inversión mediante la prueba de estrategias con datos del pasado, la mayoría de ellos en forma de precios diarios de los activos en los que se quiere invertir.\n",
    "\n",
    "En este ejercicio vamos a realizar un análisis simple de acciones del mercado de USA y crear carteras de inversión \"aleatorias\" para ver cómo les fue durante el año 2020.\n",
    "\n",
    "Para eso, debemos conseguir un dataset y una manera sencilla de hacerlo es usando [Pandas DataReader](https://pandas-datareader.readthedocs.io/en/latest/index.html).\n",
    "\n",
    "Podemos instalar la librería directamente usando Conda (en nuestros entornos locales) o Pip (en Colab).\n",
    "\n",
    "`conda install -c anaconda pandas-datareader`\n",
    "\n",
    "`!pip install pandas-datareader`"
   ]
  },
  {
   "cell_type": "code",
   "execution_count": 1,
   "metadata": {
    "colab": {
     "base_uri": "https://localhost:8080/",
     "height": 298
    },
    "executionInfo": {
     "elapsed": 982,
     "status": "ok",
     "timestamp": 1622649261905,
     "user": {
      "displayName": "Julieta Bergamasco",
      "photoUrl": "https://lh3.googleusercontent.com/a-/AOh14Gj76Fya9qpsnNstBco6yIfIaZVXb7Fo7VQM4kn6bMs=s64",
      "userId": "15440307337842019852"
     },
     "user_tz": 180
    },
    "id": "D1bMmBsXx9pt",
    "outputId": "bf990fdb-1405-4e60-9ab2-16532c40a7cd"
   },
   "outputs": [
    {
     "data": {
      "text/html": [
       "<div>\n",
       "<style scoped>\n",
       "    .dataframe tbody tr th:only-of-type {\n",
       "        vertical-align: middle;\n",
       "    }\n",
       "\n",
       "    .dataframe tbody tr th {\n",
       "        vertical-align: top;\n",
       "    }\n",
       "\n",
       "    .dataframe thead tr th {\n",
       "        text-align: left;\n",
       "    }\n",
       "\n",
       "    .dataframe thead tr:last-of-type th {\n",
       "        text-align: right;\n",
       "    }\n",
       "</style>\n",
       "<table border=\"1\" class=\"dataframe\">\n",
       "  <thead>\n",
       "    <tr>\n",
       "      <th>Attributes</th>\n",
       "      <th colspan=\"2\" halign=\"left\">Adj Close</th>\n",
       "      <th colspan=\"2\" halign=\"left\">Close</th>\n",
       "      <th colspan=\"2\" halign=\"left\">High</th>\n",
       "      <th colspan=\"2\" halign=\"left\">Low</th>\n",
       "      <th colspan=\"2\" halign=\"left\">Open</th>\n",
       "      <th colspan=\"2\" halign=\"left\">Volume</th>\n",
       "    </tr>\n",
       "    <tr>\n",
       "      <th>Symbols</th>\n",
       "      <th>MELI</th>\n",
       "      <th>AAPL</th>\n",
       "      <th>MELI</th>\n",
       "      <th>AAPL</th>\n",
       "      <th>MELI</th>\n",
       "      <th>AAPL</th>\n",
       "      <th>MELI</th>\n",
       "      <th>AAPL</th>\n",
       "      <th>MELI</th>\n",
       "      <th>AAPL</th>\n",
       "      <th>MELI</th>\n",
       "      <th>AAPL</th>\n",
       "    </tr>\n",
       "    <tr>\n",
       "      <th>Date</th>\n",
       "      <th></th>\n",
       "      <th></th>\n",
       "      <th></th>\n",
       "      <th></th>\n",
       "      <th></th>\n",
       "      <th></th>\n",
       "      <th></th>\n",
       "      <th></th>\n",
       "      <th></th>\n",
       "      <th></th>\n",
       "      <th></th>\n",
       "      <th></th>\n",
       "    </tr>\n",
       "  </thead>\n",
       "  <tbody>\n",
       "    <tr>\n",
       "      <th>2020-01-02</th>\n",
       "      <td>610.190002</td>\n",
       "      <td>74.207466</td>\n",
       "      <td>610.190002</td>\n",
       "      <td>75.087502</td>\n",
       "      <td>615.840027</td>\n",
       "      <td>75.150002</td>\n",
       "      <td>576.940002</td>\n",
       "      <td>73.797501</td>\n",
       "      <td>576.940002</td>\n",
       "      <td>74.059998</td>\n",
       "      <td>589200.0</td>\n",
       "      <td>135480400.0</td>\n",
       "    </tr>\n",
       "    <tr>\n",
       "      <th>2020-01-03</th>\n",
       "      <td>607.799988</td>\n",
       "      <td>73.486023</td>\n",
       "      <td>607.799988</td>\n",
       "      <td>74.357498</td>\n",
       "      <td>609.840027</td>\n",
       "      <td>75.144997</td>\n",
       "      <td>600.059998</td>\n",
       "      <td>74.125000</td>\n",
       "      <td>602.619995</td>\n",
       "      <td>74.287498</td>\n",
       "      <td>320900.0</td>\n",
       "      <td>146322800.0</td>\n",
       "    </tr>\n",
       "    <tr>\n",
       "      <th>2020-01-06</th>\n",
       "      <td>606.549988</td>\n",
       "      <td>74.071579</td>\n",
       "      <td>606.549988</td>\n",
       "      <td>74.949997</td>\n",
       "      <td>613.789978</td>\n",
       "      <td>74.989998</td>\n",
       "      <td>601.000000</td>\n",
       "      <td>73.187500</td>\n",
       "      <td>601.039978</td>\n",
       "      <td>73.447502</td>\n",
       "      <td>209700.0</td>\n",
       "      <td>118387200.0</td>\n",
       "    </tr>\n",
       "    <tr>\n",
       "      <th>2020-01-07</th>\n",
       "      <td>625.000000</td>\n",
       "      <td>73.723213</td>\n",
       "      <td>625.000000</td>\n",
       "      <td>74.597504</td>\n",
       "      <td>627.969971</td>\n",
       "      <td>75.224998</td>\n",
       "      <td>604.739990</td>\n",
       "      <td>74.370003</td>\n",
       "      <td>606.640015</td>\n",
       "      <td>74.959999</td>\n",
       "      <td>480900.0</td>\n",
       "      <td>108872000.0</td>\n",
       "    </tr>\n",
       "    <tr>\n",
       "      <th>2020-01-08</th>\n",
       "      <td>633.440002</td>\n",
       "      <td>74.909149</td>\n",
       "      <td>633.440002</td>\n",
       "      <td>75.797501</td>\n",
       "      <td>637.820007</td>\n",
       "      <td>76.110001</td>\n",
       "      <td>624.549988</td>\n",
       "      <td>74.290001</td>\n",
       "      <td>625.000000</td>\n",
       "      <td>74.290001</td>\n",
       "      <td>334600.0</td>\n",
       "      <td>132079200.0</td>\n",
       "    </tr>\n",
       "  </tbody>\n",
       "</table>\n",
       "</div>"
      ],
      "text/plain": [
       "Attributes   Adj Close                  Close                   High  \\\n",
       "Symbols           MELI       AAPL        MELI       AAPL        MELI   \n",
       "Date                                                                   \n",
       "2020-01-02  610.190002  74.207466  610.190002  75.087502  615.840027   \n",
       "2020-01-03  607.799988  73.486023  607.799988  74.357498  609.840027   \n",
       "2020-01-06  606.549988  74.071579  606.549988  74.949997  613.789978   \n",
       "2020-01-07  625.000000  73.723213  625.000000  74.597504  627.969971   \n",
       "2020-01-08  633.440002  74.909149  633.440002  75.797501  637.820007   \n",
       "\n",
       "Attributes                    Low                   Open               Volume  \\\n",
       "Symbols          AAPL        MELI       AAPL        MELI       AAPL      MELI   \n",
       "Date                                                                            \n",
       "2020-01-02  75.150002  576.940002  73.797501  576.940002  74.059998  589200.0   \n",
       "2020-01-03  75.144997  600.059998  74.125000  602.619995  74.287498  320900.0   \n",
       "2020-01-06  74.989998  601.000000  73.187500  601.039978  73.447502  209700.0   \n",
       "2020-01-07  75.224998  604.739990  74.370003  606.640015  74.959999  480900.0   \n",
       "2020-01-08  76.110001  624.549988  74.290001  625.000000  74.290001  334600.0   \n",
       "\n",
       "Attributes               \n",
       "Symbols            AAPL  \n",
       "Date                     \n",
       "2020-01-02  135480400.0  \n",
       "2020-01-03  146322800.0  \n",
       "2020-01-06  118387200.0  \n",
       "2020-01-07  108872000.0  \n",
       "2020-01-08  132079200.0  "
      ]
     },
     "execution_count": 1,
     "metadata": {},
     "output_type": "execute_result"
    }
   ],
   "source": [
    "# Instalar la librería\n",
    "# !pip install pandas-datareader\n",
    "# Hacemos import y descargamos precios para Mercado Libre durante todo el 2020.\n",
    "from pandas_datareader import data\n",
    "\n",
    "# Un ticker es la abreviación con la cual se encuentra al activo\n",
    "# cuando se busca su precio o se realiza una orden de mercado.\n",
    "tickers = ['MELI', 'AAPL']\n",
    "\n",
    "# Definimos el rango de fechas deseado\n",
    "start_date = '2020-01-01'\n",
    "end_date = '2020-12-31'\n",
    "\n",
    "# Obtenemos un DataFrame con los precios diarios de la acción\n",
    "df = data.DataReader(\n",
    "    tickers,\n",
    "    start=start_date, \n",
    "    end=end_date, \n",
    "    data_source='yahoo', # Yahoo Finance es uno de los recursos más simples de acceder\n",
    ")\n",
    "\n",
    "# Mostremos las primeras columnas de los datos\n",
    "df.head()"
   ]
  },
  {
   "cell_type": "code",
   "execution_count": 2,
   "metadata": {
    "colab": {
     "base_uri": "https://localhost:8080/"
    },
    "executionInfo": {
     "elapsed": 250,
     "status": "ok",
     "timestamp": 1622649327352,
     "user": {
      "displayName": "Julieta Bergamasco",
      "photoUrl": "https://lh3.googleusercontent.com/a-/AOh14Gj76Fya9qpsnNstBco6yIfIaZVXb7Fo7VQM4kn6bMs=s64",
      "userId": "15440307337842019852"
     },
     "user_tz": 180
    },
    "id": "w0kA8IDFZtN4",
    "outputId": "651b5978-aae0-49fe-d083-d6fe4fd7ec7b"
   },
   "outputs": [
    {
     "data": {
      "text/html": [
       "<div>\n",
       "<style scoped>\n",
       "    .dataframe tbody tr th:only-of-type {\n",
       "        vertical-align: middle;\n",
       "    }\n",
       "\n",
       "    .dataframe tbody tr th {\n",
       "        vertical-align: top;\n",
       "    }\n",
       "\n",
       "    .dataframe thead th {\n",
       "        text-align: right;\n",
       "    }\n",
       "</style>\n",
       "<table border=\"1\" class=\"dataframe\">\n",
       "  <thead>\n",
       "    <tr style=\"text-align: right;\">\n",
       "      <th>Symbols</th>\n",
       "      <th>MELI</th>\n",
       "      <th>AAPL</th>\n",
       "    </tr>\n",
       "    <tr>\n",
       "      <th>Date</th>\n",
       "      <th></th>\n",
       "      <th></th>\n",
       "    </tr>\n",
       "  </thead>\n",
       "  <tbody>\n",
       "    <tr>\n",
       "      <th>2020-01-02</th>\n",
       "      <td>610.190002</td>\n",
       "      <td>74.207466</td>\n",
       "    </tr>\n",
       "    <tr>\n",
       "      <th>2020-01-03</th>\n",
       "      <td>607.799988</td>\n",
       "      <td>73.486023</td>\n",
       "    </tr>\n",
       "    <tr>\n",
       "      <th>2020-01-06</th>\n",
       "      <td>606.549988</td>\n",
       "      <td>74.071579</td>\n",
       "    </tr>\n",
       "    <tr>\n",
       "      <th>2020-01-07</th>\n",
       "      <td>625.000000</td>\n",
       "      <td>73.723213</td>\n",
       "    </tr>\n",
       "    <tr>\n",
       "      <th>2020-01-08</th>\n",
       "      <td>633.440002</td>\n",
       "      <td>74.909149</td>\n",
       "    </tr>\n",
       "    <tr>\n",
       "      <th>...</th>\n",
       "      <td>...</td>\n",
       "      <td>...</td>\n",
       "    </tr>\n",
       "    <tr>\n",
       "      <th>2020-12-24</th>\n",
       "      <td>1690.479980</td>\n",
       "      <td>131.549637</td>\n",
       "    </tr>\n",
       "    <tr>\n",
       "      <th>2020-12-28</th>\n",
       "      <td>1663.719971</td>\n",
       "      <td>136.254608</td>\n",
       "    </tr>\n",
       "    <tr>\n",
       "      <th>2020-12-29</th>\n",
       "      <td>1673.489990</td>\n",
       "      <td>134.440399</td>\n",
       "    </tr>\n",
       "    <tr>\n",
       "      <th>2020-12-30</th>\n",
       "      <td>1712.939941</td>\n",
       "      <td>133.294067</td>\n",
       "    </tr>\n",
       "    <tr>\n",
       "      <th>2020-12-31</th>\n",
       "      <td>1675.219971</td>\n",
       "      <td>132.267349</td>\n",
       "    </tr>\n",
       "  </tbody>\n",
       "</table>\n",
       "<p>253 rows × 2 columns</p>\n",
       "</div>"
      ],
      "text/plain": [
       "Symbols            MELI        AAPL\n",
       "Date                               \n",
       "2020-01-02   610.190002   74.207466\n",
       "2020-01-03   607.799988   73.486023\n",
       "2020-01-06   606.549988   74.071579\n",
       "2020-01-07   625.000000   73.723213\n",
       "2020-01-08   633.440002   74.909149\n",
       "...                 ...         ...\n",
       "2020-12-24  1690.479980  131.549637\n",
       "2020-12-28  1663.719971  136.254608\n",
       "2020-12-29  1673.489990  134.440399\n",
       "2020-12-30  1712.939941  133.294067\n",
       "2020-12-31  1675.219971  132.267349\n",
       "\n",
       "[253 rows x 2 columns]"
      ]
     },
     "execution_count": 2,
     "metadata": {},
     "output_type": "execute_result"
    }
   ],
   "source": [
    "df[\"Adj Close\"]"
   ]
  },
  {
   "cell_type": "markdown",
   "metadata": {
    "id": "z_syGizQniP8"
   },
   "source": [
    "Desarrollar los siguientes ejercicios:\n",
    "\n",
    "- Utilizaremos sólo la columna Adj. Close para trabajar y nos gustaría tener un gráfico de cómo se movieron los precios de la acción, usando `plot`. Cuál es el precio máximo y mínimo que alcanzó la acción en el año y en qué fechas se alcanzaron?\n",
    "\n",
    "- La variable *tickers* es una lista de acciones que podemos cambiar para conseguir los precios que deseemos. Consigamos los precios de [FAANG](https://blog.selfbank.es/que-es-faang/), buscando sus tickers correspondientes y armemos un dataframe con el Adj. Close de cada una de las acciones durante el 2020.\n",
    "\n",
    "- Cómo podemos calcular el porcentaje de ganancia de estas acciones en el año?\n",
    "\n",
    "- Supongamos que tenemos $10.000 para invertir en estas acciones y armamos una cartera \"aleatoria\" (no es posible invertir una cantidad negativa ni invertir más dinero del que se tiene). Cómo podemos mostrar la evolución de esa cartera en el tiempo? Graficar 5 carteras aleatorias y su evolución en el año. Cómo se comparan con una estrategia que invierte el 20% inicial del capital en cada una de las acciones?"
   ]
  },
  {
   "cell_type": "code",
   "execution_count": null,
   "metadata": {
    "id": "QDVCgl2P1dSp"
   },
   "outputs": [],
   "source": []
  },
  {
   "cell_type": "markdown",
   "metadata": {
    "id": "kChLq6Ymx9Z1"
   },
   "source": [
    "# 3- Trabajando con la EPH\n",
    "\n",
    "![eph](https://pbs.twimg.com/media/EehLGmHWAAYGkRj?format=jpg&name=medium)\n",
    "\n",
    "La Encuesta Permanente de Hogares (EPH) es un trabajo desarrollado por el INDEC (en convenio con las direcciones provinciales de estadística) y es un repositorio de datos que nos permite conocer las características sociodemográficas y socieconómicas de la población argentina, que es actualizado de manera trimestral.\n",
    "\n",
    "En este caso vamos a trabajar con una muestra de la misma, con aproximadamente 660 hogares, la cual vamos a poder leer directamente desde un link público de Drive.\n",
    "La mayoría de sus columnas tienen nombres en código, por lo que es necesario leer el diccionario de variables disponible en el [siguiente link](https://www.indec.gob.ar/ftp/cuadros/menusuperior/eph/EPH_disenoreg_T3_2013.pdf) antes de comenzar a hacer el análisis de los datos.\n"
   ]
  },
  {
   "cell_type": "code",
   "execution_count": null,
   "metadata": {
    "id": "Oske9H1qyAAs"
   },
   "outputs": [],
   "source": [
    "import pandas as pd\n",
    "# URL de la muestra, pueden entrar a ese link y descargar los datos también.\n",
    "path = 'https://drive.google.com/uc?export=download&id=1uU18pevuixKbQ14M5zoCHJqAG_GZdA32'\n",
    "# Leemos el archivo de Excel en la URL desde Pandas.\n",
    "df_hogar = pd.read_excel(path)\n",
    "df_hogar.head()"
   ]
  },
  {
   "cell_type": "markdown",
   "metadata": {
    "id": "y66Igv5jQKs-"
   },
   "source": [
    "Para hacer nuestro análisis de esta muestra, respondamos las siguientes preguntas:\n",
    "\n",
    "- ¿Cuántos hogares por cada región tenemos? Expresarlo gráficamente.\n",
    "\n",
    "- ¿Cómo se distribuye el Ingreso Total Familiar? Y el ingreso per cápita? ¿Cuáles son los valores promedio? ¿Y sus medianas?\n",
    "\n",
    "- ¿Cuántas viviendas tienen acceso al agua por la red pública? Revisar la columna IV7 para responder esta pregunta.\n",
    "\n",
    "- Crear una nueva columna que represente la cantidad de habitaciones por habitante del hogar. ¿Cómo es su distribución?\n",
    "\n",
    "- ¿Existe alguna relación a simple vista entre la cantidad de cuartos que tiene un hogar y el nivel de ingresos del mismo? Realizar un scatter plot para visualizar ambas variables."
   ]
  },
  {
   "cell_type": "code",
   "execution_count": null,
   "metadata": {
    "id": "nAMjzmegP2dn"
   },
   "outputs": [],
   "source": []
  }
 ],
 "metadata": {
  "colab": {
   "collapsed_sections": [
    "mgqhxY2yCx6i"
   ],
   "name": "M0.U2 Introducción a la Programación - Entregable 2.ipynb",
   "provenance": [],
   "toc_visible": true
  },
  "kernelspec": {
   "display_name": "Python 3",
   "language": "python",
   "name": "python3"
  },
  "language_info": {
   "codemirror_mode": {
    "name": "ipython",
    "version": 3
   },
   "file_extension": ".py",
   "mimetype": "text/x-python",
   "name": "python",
   "nbconvert_exporter": "python",
   "pygments_lexer": "ipython3",
   "version": "3.6.8"
  }
 },
 "nbformat": 4,
 "nbformat_minor": 4
}